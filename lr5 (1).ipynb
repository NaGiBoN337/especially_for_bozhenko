{
 "cells": [
  {
   "cell_type": "markdown",
   "metadata": {
    "id": "Vg1tiI3d2958"
   },
   "source": [
    "\n",
    "\n",
    "### Лабораторная работа №5 **Проведение A/B тестирования**\n",
    "\n",
    "### Индивидуальный вариант №16\n",
    "\n",
    "Задание по варианту:\n",
    "* Для первой части:\n",
    "> 4 вариант (из 6 возможных 16 варианту соотвнетствует имменно этот)\n",
    "> \n",
    "> Изобразить точечный график числа заказов по пользователям."
   ]
  },
  {
   "cell_type": "code",
   "execution_count": 1,
   "metadata": {
    "id": "RJYzprfp2zqI"
   },
   "outputs": [],
   "source": [
    "# Подключаем библиотеку для обработки и анализа данных\n",
    "import pandas as pd"
   ]
  },
  {
   "cell_type": "code",
   "execution_count": 2,
   "metadata": {
    "id": "MspfNS0B4Kal"
   },
   "outputs": [],
   "source": [
    "# Загружаем датасет\n",
    "df_orders   = pd.read_csv('orders.csv', delimiter=',')\n",
    "df_visitors = pd.read_csv('visitors.csv', delimiter=',')\n",
    "df_logs_exp = pd.read_csv('logs_exp.csv', delimiter='\\t')"
   ]
  },
  {
   "cell_type": "code",
   "execution_count": 3,
   "metadata": {
    "colab": {
     "base_uri": "https://localhost:8080/"
    },
    "id": "enJIamQ-4x4h",
    "outputId": "ac5f491c-e46c-47ad-9b78-ca2e4a365dae"
   },
   "outputs": [
    {
     "name": "stdout",
     "output_type": "stream",
     "text": [
      "<class 'pandas.core.frame.DataFrame'>\n",
      "RangeIndex: 1197 entries, 0 to 1196\n",
      "Data columns (total 5 columns):\n",
      " #   Column         Non-Null Count  Dtype \n",
      "---  ------         --------------  ----- \n",
      " 0   transactionId  1197 non-null   int64 \n",
      " 1   visitorId      1197 non-null   int64 \n",
      " 2   date           1197 non-null   object\n",
      " 3   revenue        1197 non-null   int64 \n",
      " 4   group          1197 non-null   object\n",
      "dtypes: int64(3), object(2)\n",
      "memory usage: 46.9+ KB\n",
      "None\n",
      "\n",
      "<class 'pandas.core.frame.DataFrame'>\n",
      "RangeIndex: 62 entries, 0 to 61\n",
      "Data columns (total 3 columns):\n",
      " #   Column    Non-Null Count  Dtype \n",
      "---  ------    --------------  ----- \n",
      " 0   date      62 non-null     object\n",
      " 1   group     62 non-null     object\n",
      " 2   visitors  62 non-null     int64 \n",
      "dtypes: int64(1), object(2)\n",
      "memory usage: 1.6+ KB\n",
      "None\n",
      "\n",
      "<class 'pandas.core.frame.DataFrame'>\n",
      "RangeIndex: 244126 entries, 0 to 244125\n",
      "Data columns (total 4 columns):\n",
      " #   Column          Non-Null Count   Dtype \n",
      "---  ------          --------------   ----- \n",
      " 0   EventName       244126 non-null  object\n",
      " 1   DeviceIDHash    244126 non-null  int64 \n",
      " 2   EventTimestamp  244126 non-null  int64 \n",
      " 3   ExpId           244126 non-null  int64 \n",
      "dtypes: int64(3), object(1)\n",
      "memory usage: 7.5+ MB\n",
      "None\n",
      "\n"
     ]
    }
   ],
   "source": [
    "# Выводим информацию о данных датасета\n",
    "print(df_orders.info(),   end='\\n\\n')\n",
    "print(df_visitors.info(), end='\\n\\n')\n",
    "print(df_logs_exp.info(), end='\\n\\n')"
   ]
  },
  {
   "cell_type": "code",
   "execution_count": 4,
   "metadata": {
    "colab": {
     "base_uri": "https://localhost:8080/",
     "height": 206
    },
    "id": "XNVjaLBYpHiN",
    "outputId": "cd4870d6-6581-4113-82f6-066245cba333"
   },
   "outputs": [
    {
     "data": {
      "text/html": [
       "<div>\n",
       "<style scoped>\n",
       "    .dataframe tbody tr th:only-of-type {\n",
       "        vertical-align: middle;\n",
       "    }\n",
       "\n",
       "    .dataframe tbody tr th {\n",
       "        vertical-align: top;\n",
       "    }\n",
       "\n",
       "    .dataframe thead th {\n",
       "        text-align: right;\n",
       "    }\n",
       "</style>\n",
       "<table border=\"1\" class=\"dataframe\">\n",
       "  <thead>\n",
       "    <tr style=\"text-align: right;\">\n",
       "      <th></th>\n",
       "      <th>transactionId</th>\n",
       "      <th>visitorId</th>\n",
       "      <th>date</th>\n",
       "      <th>revenue</th>\n",
       "      <th>group</th>\n",
       "    </tr>\n",
       "  </thead>\n",
       "  <tbody>\n",
       "    <tr>\n",
       "      <th>0</th>\n",
       "      <td>3667963787</td>\n",
       "      <td>3312258926</td>\n",
       "      <td>2019-08-15</td>\n",
       "      <td>1650</td>\n",
       "      <td>B</td>\n",
       "    </tr>\n",
       "    <tr>\n",
       "      <th>1</th>\n",
       "      <td>2804400009</td>\n",
       "      <td>3642806036</td>\n",
       "      <td>2019-08-15</td>\n",
       "      <td>730</td>\n",
       "      <td>B</td>\n",
       "    </tr>\n",
       "    <tr>\n",
       "      <th>2</th>\n",
       "      <td>2961555356</td>\n",
       "      <td>4069496402</td>\n",
       "      <td>2019-08-15</td>\n",
       "      <td>400</td>\n",
       "      <td>A</td>\n",
       "    </tr>\n",
       "    <tr>\n",
       "      <th>3</th>\n",
       "      <td>3797467345</td>\n",
       "      <td>1196621759</td>\n",
       "      <td>2019-08-15</td>\n",
       "      <td>9759</td>\n",
       "      <td>B</td>\n",
       "    </tr>\n",
       "    <tr>\n",
       "      <th>4</th>\n",
       "      <td>2282983706</td>\n",
       "      <td>2322279887</td>\n",
       "      <td>2019-08-15</td>\n",
       "      <td>2308</td>\n",
       "      <td>B</td>\n",
       "    </tr>\n",
       "  </tbody>\n",
       "</table>\n",
       "</div>"
      ],
      "text/plain": [
       "   transactionId   visitorId        date  revenue group\n",
       "0     3667963787  3312258926  2019-08-15     1650     B\n",
       "1     2804400009  3642806036  2019-08-15      730     B\n",
       "2     2961555356  4069496402  2019-08-15      400     A\n",
       "3     3797467345  1196621759  2019-08-15     9759     B\n",
       "4     2282983706  2322279887  2019-08-15     2308     B"
      ]
     },
     "execution_count": 4,
     "metadata": {},
     "output_type": "execute_result"
    }
   ],
   "source": [
    "# Выводим первые 5 строк датасета orders\n",
    "df_orders.head()"
   ]
  },
  {
   "cell_type": "code",
   "execution_count": 5,
   "metadata": {
    "colab": {
     "base_uri": "https://localhost:8080/",
     "height": 206
    },
    "id": "Ojh-zSpMpIG5",
    "outputId": "530a9971-8f7b-45b5-8da0-e3977af71008"
   },
   "outputs": [
    {
     "data": {
      "text/html": [
       "<div>\n",
       "<style scoped>\n",
       "    .dataframe tbody tr th:only-of-type {\n",
       "        vertical-align: middle;\n",
       "    }\n",
       "\n",
       "    .dataframe tbody tr th {\n",
       "        vertical-align: top;\n",
       "    }\n",
       "\n",
       "    .dataframe thead th {\n",
       "        text-align: right;\n",
       "    }\n",
       "</style>\n",
       "<table border=\"1\" class=\"dataframe\">\n",
       "  <thead>\n",
       "    <tr style=\"text-align: right;\">\n",
       "      <th></th>\n",
       "      <th>date</th>\n",
       "      <th>group</th>\n",
       "      <th>visitors</th>\n",
       "    </tr>\n",
       "  </thead>\n",
       "  <tbody>\n",
       "    <tr>\n",
       "      <th>0</th>\n",
       "      <td>2019-08-01</td>\n",
       "      <td>A</td>\n",
       "      <td>719</td>\n",
       "    </tr>\n",
       "    <tr>\n",
       "      <th>1</th>\n",
       "      <td>2019-08-02</td>\n",
       "      <td>A</td>\n",
       "      <td>619</td>\n",
       "    </tr>\n",
       "    <tr>\n",
       "      <th>2</th>\n",
       "      <td>2019-08-03</td>\n",
       "      <td>A</td>\n",
       "      <td>507</td>\n",
       "    </tr>\n",
       "    <tr>\n",
       "      <th>3</th>\n",
       "      <td>2019-08-04</td>\n",
       "      <td>A</td>\n",
       "      <td>717</td>\n",
       "    </tr>\n",
       "    <tr>\n",
       "      <th>4</th>\n",
       "      <td>2019-08-05</td>\n",
       "      <td>A</td>\n",
       "      <td>756</td>\n",
       "    </tr>\n",
       "  </tbody>\n",
       "</table>\n",
       "</div>"
      ],
      "text/plain": [
       "         date group  visitors\n",
       "0  2019-08-01     A       719\n",
       "1  2019-08-02     A       619\n",
       "2  2019-08-03     A       507\n",
       "3  2019-08-04     A       717\n",
       "4  2019-08-05     A       756"
      ]
     },
     "execution_count": 5,
     "metadata": {},
     "output_type": "execute_result"
    }
   ],
   "source": [
    "# Выводим первые 5 строк датасета visitors\n",
    "df_visitors.head()"
   ]
  },
  {
   "cell_type": "code",
   "execution_count": 6,
   "metadata": {
    "colab": {
     "base_uri": "https://localhost:8080/",
     "height": 206
    },
    "id": "eHJUfbG04wXd",
    "outputId": "9c24b87f-db7c-41b0-f6a6-79c1f7fa47ac"
   },
   "outputs": [
    {
     "data": {
      "text/html": [
       "<div>\n",
       "<style scoped>\n",
       "    .dataframe tbody tr th:only-of-type {\n",
       "        vertical-align: middle;\n",
       "    }\n",
       "\n",
       "    .dataframe tbody tr th {\n",
       "        vertical-align: top;\n",
       "    }\n",
       "\n",
       "    .dataframe thead th {\n",
       "        text-align: right;\n",
       "    }\n",
       "</style>\n",
       "<table border=\"1\" class=\"dataframe\">\n",
       "  <thead>\n",
       "    <tr style=\"text-align: right;\">\n",
       "      <th></th>\n",
       "      <th>EventName</th>\n",
       "      <th>DeviceIDHash</th>\n",
       "      <th>EventTimestamp</th>\n",
       "      <th>ExpId</th>\n",
       "    </tr>\n",
       "  </thead>\n",
       "  <tbody>\n",
       "    <tr>\n",
       "      <th>0</th>\n",
       "      <td>MainScreenAppear</td>\n",
       "      <td>4575588528974610257</td>\n",
       "      <td>1564029816</td>\n",
       "      <td>246</td>\n",
       "    </tr>\n",
       "    <tr>\n",
       "      <th>1</th>\n",
       "      <td>MainScreenAppear</td>\n",
       "      <td>7416695313311560658</td>\n",
       "      <td>1564053102</td>\n",
       "      <td>246</td>\n",
       "    </tr>\n",
       "    <tr>\n",
       "      <th>2</th>\n",
       "      <td>PaymentScreenSuccessful</td>\n",
       "      <td>3518123091307005509</td>\n",
       "      <td>1564054127</td>\n",
       "      <td>248</td>\n",
       "    </tr>\n",
       "    <tr>\n",
       "      <th>3</th>\n",
       "      <td>CartScreenAppear</td>\n",
       "      <td>3518123091307005509</td>\n",
       "      <td>1564054127</td>\n",
       "      <td>248</td>\n",
       "    </tr>\n",
       "    <tr>\n",
       "      <th>4</th>\n",
       "      <td>PaymentScreenSuccessful</td>\n",
       "      <td>6217807653094995999</td>\n",
       "      <td>1564055322</td>\n",
       "      <td>248</td>\n",
       "    </tr>\n",
       "  </tbody>\n",
       "</table>\n",
       "</div>"
      ],
      "text/plain": [
       "                 EventName         DeviceIDHash  EventTimestamp  ExpId\n",
       "0         MainScreenAppear  4575588528974610257      1564029816    246\n",
       "1         MainScreenAppear  7416695313311560658      1564053102    246\n",
       "2  PaymentScreenSuccessful  3518123091307005509      1564054127    248\n",
       "3         CartScreenAppear  3518123091307005509      1564054127    248\n",
       "4  PaymentScreenSuccessful  6217807653094995999      1564055322    248"
      ]
     },
     "execution_count": 6,
     "metadata": {},
     "output_type": "execute_result"
    }
   ],
   "source": [
    "# Выводим первые 5 строк датасета logs_exp\n",
    "df_logs_exp.head()"
   ]
  },
  {
   "cell_type": "markdown",
   "metadata": {
    "id": "wZUxmM5ozb9F"
   },
   "source": [
    "### Вывод\n",
    "\n",
    "Ознакомившись с данные на первый взгляд с ними все хорошо только названия столбцов нужно привести к единому змеиному регистру, переименовывать не нужно так как названия столбцов соответствуют содержимому."
   ]
  },
  {
   "cell_type": "markdown",
   "metadata": {
    "id": "gfn1lNQy4pd-"
   },
   "source": [
    "# Предварительная подготовка данных"
   ]
  },
  {
   "cell_type": "markdown",
   "metadata": {
    "id": "KXHgoxw-5uLs"
   },
   "source": [
    "## Устранение проблем названий столбцов"
   ]
  },
  {
   "cell_type": "code",
   "execution_count": 7,
   "metadata": {
    "colab": {
     "base_uri": "https://localhost:8080/"
    },
    "id": "I_pyPFUO6ZRW",
    "outputId": "327e7e09-a876-4ae9-8864-0e56e43381df"
   },
   "outputs": [
    {
     "name": "stdout",
     "output_type": "stream",
     "text": [
      "Столбцы logs_exp.csv:\n",
      "EventName\n",
      "DeviceIDHash\n",
      "EventTimestamp\n",
      "ExpId\n",
      "\n",
      "Столбцы orders.csv:\n",
      "transactionId\n",
      "visitorId\n",
      "date\n",
      "revenue\n",
      "group\n",
      "\n",
      "Столбцы visitors.csv:\n",
      "date\n",
      "group\n",
      "visitors\n",
      "\n"
     ]
    }
   ],
   "source": [
    "# Вывели названия столбцов таблицы\n",
    "print('Столбцы logs_exp.csv:', *df_logs_exp.columns.tolist(), sep='\\n', end='\\n\\n')\n",
    "print('Столбцы orders.csv:',   *df_orders.columns.tolist(),   sep='\\n', end='\\n\\n')\n",
    "print('Столбцы visitors.csv:', *df_visitors.columns.tolist(), sep='\\n', end='\\n\\n')"
   ]
  },
  {
   "cell_type": "code",
   "execution_count": 8,
   "metadata": {
    "id": "YOCzdr3HNEM5"
   },
   "outputs": [],
   "source": [
    "# Исправляем названия столбцов\n",
    "df_logs_exp.columns = ['event_name', 'device_id_hash', 'event_timestamp', 'exp_id']\n",
    "df_orders.columns = ['transaction_id', 'visitor_id', 'date', 'revenue', 'group']"
   ]
  },
  {
   "cell_type": "markdown",
   "metadata": {
    "id": "ncrcziujkfMo"
   },
   "source": [
    "### Вывод\n",
    "\n",
    "Привели названия столбцов к змеиному регистру."
   ]
  },
  {
   "cell_type": "markdown",
   "metadata": {
    "id": "aZ8HNom491f_"
   },
   "source": [
    "## Обработка пропусков"
   ]
  },
  {
   "cell_type": "code",
   "execution_count": 9,
   "metadata": {
    "colab": {
     "base_uri": "https://localhost:8080/"
    },
    "id": "i3QYpMwV-3Jj",
    "outputId": "f1f2164f-0df5-4396-95f4-338791b1a541"
   },
   "outputs": [
    {
     "name": "stdout",
     "output_type": "stream",
     "text": [
      "Пропуски в столбцах logs_exp.csv:\n",
      "event_name         0\n",
      "device_id_hash     0\n",
      "event_timestamp    0\n",
      "exp_id             0\n",
      "dtype: int64\n",
      "\n",
      "Пропуски в столбцах orders.csv:\n",
      "transaction_id    0\n",
      "visitor_id        0\n",
      "date              0\n",
      "revenue           0\n",
      "group             0\n",
      "dtype: int64\n",
      "\n",
      "Пропуски в столбцах visitors.csv:\n",
      "date        0\n",
      "group       0\n",
      "visitors    0\n",
      "dtype: int64\n",
      "\n"
     ]
    }
   ],
   "source": [
    "# Поиск пустых значений\n",
    "print('Пропуски в столбцах logs_exp.csv:', df_logs_exp.isnull().sum(), sep='\\n', end='\\n\\n')\n",
    "print('Пропуски в столбцах orders.csv:',   df_orders.isnull().sum(),   sep='\\n', end='\\n\\n')\n",
    "print('Пропуски в столбцах visitors.csv:', df_visitors.isnull().sum(), sep='\\n', end='\\n\\n')"
   ]
  },
  {
   "cell_type": "markdown",
   "metadata": {
    "id": "sPIIKNWNkwqp"
   },
   "source": [
    "### Вывод\n",
    "\n",
    "Пропусков в дата сете не оказалось, исправлять ничего не нужно – это упрощает нам работу."
   ]
  },
  {
   "cell_type": "markdown",
   "metadata": {
    "id": "ON1xWKP2Wr9r"
   },
   "source": [
    "## Устранение дубликатов "
   ]
  },
  {
   "cell_type": "markdown",
   "metadata": {
    "id": "KRIUgYHwlpiF"
   },
   "source": [
    "### Явные дубликаты"
   ]
  },
  {
   "cell_type": "code",
   "execution_count": 10,
   "metadata": {
    "colab": {
     "base_uri": "https://localhost:8080/"
    },
    "id": "08h06GBoW0Vj",
    "outputId": "b5c0bc02-a54e-43d0-8c44-6a241b472a06"
   },
   "outputs": [
    {
     "name": "stdout",
     "output_type": "stream",
     "text": [
      "Кол-во явных дубликатов в logs_exp.csv: 413\n",
      "Кол-во явных дубликатов в orders.csv: 0\n",
      "Кол-во явных дубликатов в visitors.csv: 0\n"
     ]
    }
   ],
   "source": [
    "# проверим, есть ли дубликаты в таблице\n",
    "print('Кол-во явных дубликатов в logs_exp.csv:', df_logs_exp.duplicated().sum())\n",
    "print('Кол-во явных дубликатов в orders.csv:',   df_orders.duplicated().sum())\n",
    "print('Кол-во явных дубликатов в visitors.csv:', df_visitors.duplicated().sum())"
   ]
  },
  {
   "cell_type": "code",
   "execution_count": 11,
   "metadata": {
    "colab": {
     "base_uri": "https://localhost:8080/"
    },
    "id": "w-bCFLfwwA4k",
    "outputId": "a4aa72ba-0543-4867-c968-4587a831a46d"
   },
   "outputs": [
    {
     "name": "stdout",
     "output_type": "stream",
     "text": [
      "Кол-во явных дубликатов в logs_exp.csv: 0\n"
     ]
    }
   ],
   "source": [
    "# Удаляем дубликаты\n",
    "df_logs_exp.drop_duplicates(inplace=True)\n",
    "print('Кол-во явных дубликатов в logs_exp.csv:', df_logs_exp.duplicated().sum())"
   ]
  },
  {
   "cell_type": "markdown",
   "metadata": {
    "id": "m5aBtBUVduTp"
   },
   "source": [
    "### Вывод\n",
    "\n",
    "Удалили явные дубликаты из датафрейма logs_exp.csv"
   ]
  },
  {
   "cell_type": "markdown",
   "metadata": {
    "id": "A3lgpFTlYQkr"
   },
   "source": [
    "### Удаление неявных дубликатов"
   ]
  },
  {
   "cell_type": "code",
   "execution_count": 12,
   "metadata": {
    "colab": {
     "base_uri": "https://localhost:8080/"
    },
    "id": "XjPaOyyLuA0q",
    "outputId": "898bdf2b-f276-45a4-af65-b50cd18af147"
   },
   "outputs": [
    {
     "name": "stdout",
     "output_type": "stream",
     "text": [
      "MainScreenAppear\n",
      "PaymentScreenSuccessful\n",
      "CartScreenAppear\n",
      "OffersScreenAppear\n",
      "Tutorial\n"
     ]
    }
   ],
   "source": [
    "# Поиск неявных дубликатов\n",
    "print(*df_logs_exp['event_name'].unique(), sep='\\n')"
   ]
  },
  {
   "cell_type": "code",
   "execution_count": 13,
   "metadata": {
    "colab": {
     "base_uri": "https://localhost:8080/"
    },
    "id": "R07a00tnxfds",
    "outputId": "5c4894e1-36fd-4ef0-bfeb-2735189df03a"
   },
   "outputs": [
    {
     "name": "stdout",
     "output_type": "stream",
     "text": [
      "246\n",
      "248\n",
      "247\n"
     ]
    }
   ],
   "source": [
    "# Поиск неявных дубликатов\n",
    "print(*df_logs_exp['exp_id'].unique(), sep='\\n')"
   ]
  },
  {
   "cell_type": "code",
   "execution_count": 14,
   "metadata": {
    "colab": {
     "base_uri": "https://localhost:8080/"
    },
    "id": "XF2UXBh0yM1W",
    "outputId": "9e38c3cf-1a88-46a5-e887-9e1521e0c0bd"
   },
   "outputs": [
    {
     "name": "stdout",
     "output_type": "stream",
     "text": [
      "B\n",
      "A\n"
     ]
    }
   ],
   "source": [
    "# Поиск неявных дубликатов\n",
    "print(*df_orders['group'].unique(), sep='\\n')"
   ]
  },
  {
   "cell_type": "code",
   "execution_count": 15,
   "metadata": {
    "colab": {
     "base_uri": "https://localhost:8080/"
    },
    "id": "9bVh1OR7yUIJ",
    "outputId": "1f6c5719-3388-4214-cd11-63fbf8e3a8c9"
   },
   "outputs": [
    {
     "name": "stdout",
     "output_type": "stream",
     "text": [
      "A\n",
      "B\n"
     ]
    }
   ],
   "source": [
    "# Поиск неявных дубликатов\n",
    "print(*df_visitors['group'].unique(), sep='\\n')"
   ]
  },
  {
   "cell_type": "markdown",
   "metadata": {
    "id": "VHOtyQ3gQcvq"
   },
   "source": [
    "Неявных дубликатов не обнаруженно"
   ]
  },
  {
   "cell_type": "markdown",
   "metadata": {
    "id": "7reC6ErRvo4y"
   },
   "source": [
    "## Исправляем типы данных"
   ]
  },
  {
   "cell_type": "code",
   "execution_count": 16,
   "metadata": {
    "colab": {
     "base_uri": "https://localhost:8080/"
    },
    "id": "wq8p7rbTpzBf",
    "outputId": "3d0268f8-b281-4dfc-f137-d86b95b3970b"
   },
   "outputs": [
    {
     "data": {
      "text/plain": [
       "event_name         object\n",
       "device_id_hash      int64\n",
       "event_timestamp     int64\n",
       "exp_id              int64\n",
       "dtype: object"
      ]
     },
     "execution_count": 16,
     "metadata": {},
     "output_type": "execute_result"
    }
   ],
   "source": [
    "# Проверка типов данных\n",
    "df_logs_exp.dtypes"
   ]
  },
  {
   "cell_type": "code",
   "execution_count": 17,
   "metadata": {
    "id": "NbGfATbxqIue"
   },
   "outputs": [],
   "source": [
    "# Установка необходимых типов данных\n",
    "df_logs_exp['event_name'] = df_logs_exp['event_name'].astype('string')\n",
    "df_logs_exp['event_timestamp'] = pd.to_datetime(df_logs_exp['event_timestamp'], unit='s')"
   ]
  },
  {
   "cell_type": "code",
   "execution_count": 18,
   "metadata": {
    "colab": {
     "base_uri": "https://localhost:8080/"
    },
    "id": "x4BiYh_LqCDY",
    "outputId": "17ea149c-008f-4415-ed4a-df98be88e8e6"
   },
   "outputs": [
    {
     "data": {
      "text/plain": [
       "transaction_id     int64\n",
       "visitor_id         int64\n",
       "date              object\n",
       "revenue            int64\n",
       "group             object\n",
       "dtype: object"
      ]
     },
     "execution_count": 18,
     "metadata": {},
     "output_type": "execute_result"
    }
   ],
   "source": [
    "# Проверка типов данных\n",
    "df_orders.dtypes"
   ]
  },
  {
   "cell_type": "code",
   "execution_count": 19,
   "metadata": {
    "id": "QbUBhCXtssql"
   },
   "outputs": [],
   "source": [
    "# Установка необходимых типов данных\n",
    "df_orders['date'] = df_orders['date'].astype('datetime64[ns]')\n",
    "df_orders['group'] = df_orders['group'].astype('string')"
   ]
  },
  {
   "cell_type": "code",
   "execution_count": 20,
   "metadata": {
    "colab": {
     "base_uri": "https://localhost:8080/"
    },
    "id": "2Lnc-b_OqDIB",
    "outputId": "13334137-c0de-45e1-dc69-8edd093a09a2"
   },
   "outputs": [
    {
     "data": {
      "text/plain": [
       "date        object\n",
       "group       object\n",
       "visitors     int64\n",
       "dtype: object"
      ]
     },
     "execution_count": 20,
     "metadata": {},
     "output_type": "execute_result"
    }
   ],
   "source": [
    "# Проверка типов данных\n",
    "df_visitors.dtypes"
   ]
  },
  {
   "cell_type": "code",
   "execution_count": 21,
   "metadata": {
    "id": "nhalyOUip2GF"
   },
   "outputs": [],
   "source": [
    "# Установка необходимых типов данных\n",
    "df_visitors['date'] = df_visitors['date'].astype('datetime64[ns]')\n",
    "df_visitors['group'] = df_visitors['group'].astype('string')"
   ]
  },
  {
   "cell_type": "markdown",
   "metadata": {
    "id": "REmCb7JkPB7j"
   },
   "source": [
    "# Первая часть"
   ]
  },
  {
   "cell_type": "markdown",
   "metadata": {
    "id": "X6SFetf9zUWA"
   },
   "source": [
    "## Поиск и удаление пересекающихся пользователей"
   ]
  },
  {
   "cell_type": "code",
   "execution_count": 22,
   "metadata": {
    "colab": {
     "base_uri": "https://localhost:8080/"
    },
    "id": "QMifETA5y2Ss",
    "outputId": "b7baf780-48bf-47ff-dd41-6873c22f2df0"
   },
   "outputs": [
    {
     "data": {
      "text/html": [
       "<div>\n",
       "<style scoped>\n",
       "    .dataframe tbody tr th:only-of-type {\n",
       "        vertical-align: middle;\n",
       "    }\n",
       "\n",
       "    .dataframe tbody tr th {\n",
       "        vertical-align: top;\n",
       "    }\n",
       "\n",
       "    .dataframe thead th {\n",
       "        text-align: right;\n",
       "    }\n",
       "</style>\n",
       "<table border=\"1\" class=\"dataframe\">\n",
       "  <thead>\n",
       "    <tr style=\"text-align: right;\">\n",
       "      <th></th>\n",
       "      <th>transaction_id_x</th>\n",
       "      <th>visitor_id</th>\n",
       "      <th>date_x</th>\n",
       "      <th>revenue_x</th>\n",
       "      <th>group_x</th>\n",
       "      <th>transaction_id_y</th>\n",
       "      <th>date_y</th>\n",
       "      <th>revenue_y</th>\n",
       "      <th>group_y</th>\n",
       "    </tr>\n",
       "  </thead>\n",
       "  <tbody>\n",
       "    <tr>\n",
       "      <th>0</th>\n",
       "      <td>2961555356</td>\n",
       "      <td>4069496402</td>\n",
       "      <td>2019-08-15</td>\n",
       "      <td>400</td>\n",
       "      <td>A</td>\n",
       "      <td>1473132782</td>\n",
       "      <td>2019-08-12</td>\n",
       "      <td>640</td>\n",
       "      <td>B</td>\n",
       "    </tr>\n",
       "    <tr>\n",
       "      <th>1</th>\n",
       "      <td>2223239646</td>\n",
       "      <td>199603092</td>\n",
       "      <td>2019-08-15</td>\n",
       "      <td>3488</td>\n",
       "      <td>A</td>\n",
       "      <td>437656952</td>\n",
       "      <td>2019-08-02</td>\n",
       "      <td>3488</td>\n",
       "      <td>B</td>\n",
       "    </tr>\n",
       "    <tr>\n",
       "      <th>2</th>\n",
       "      <td>62794304</td>\n",
       "      <td>199603092</td>\n",
       "      <td>2019-08-22</td>\n",
       "      <td>6976</td>\n",
       "      <td>A</td>\n",
       "      <td>437656952</td>\n",
       "      <td>2019-08-02</td>\n",
       "      <td>3488</td>\n",
       "      <td>B</td>\n",
       "    </tr>\n",
       "    <tr>\n",
       "      <th>3</th>\n",
       "      <td>2971973105</td>\n",
       "      <td>199603092</td>\n",
       "      <td>2019-08-27</td>\n",
       "      <td>2790</td>\n",
       "      <td>A</td>\n",
       "      <td>437656952</td>\n",
       "      <td>2019-08-02</td>\n",
       "      <td>3488</td>\n",
       "      <td>B</td>\n",
       "    </tr>\n",
       "    <tr>\n",
       "      <th>4</th>\n",
       "      <td>1941707234</td>\n",
       "      <td>199603092</td>\n",
       "      <td>2019-08-12</td>\n",
       "      <td>6438</td>\n",
       "      <td>A</td>\n",
       "      <td>437656952</td>\n",
       "      <td>2019-08-02</td>\n",
       "      <td>3488</td>\n",
       "      <td>B</td>\n",
       "    </tr>\n",
       "    <tr>\n",
       "      <th>...</th>\n",
       "      <td>...</td>\n",
       "      <td>...</td>\n",
       "      <td>...</td>\n",
       "      <td>...</td>\n",
       "      <td>...</td>\n",
       "      <td>...</td>\n",
       "      <td>...</td>\n",
       "      <td>...</td>\n",
       "      <td>...</td>\n",
       "    </tr>\n",
       "    <tr>\n",
       "      <th>178</th>\n",
       "      <td>3757656646</td>\n",
       "      <td>4186807279</td>\n",
       "      <td>2019-08-14</td>\n",
       "      <td>4990</td>\n",
       "      <td>A</td>\n",
       "      <td>1759418862</td>\n",
       "      <td>2019-08-21</td>\n",
       "      <td>18560</td>\n",
       "      <td>B</td>\n",
       "    </tr>\n",
       "    <tr>\n",
       "      <th>179</th>\n",
       "      <td>3757656646</td>\n",
       "      <td>4186807279</td>\n",
       "      <td>2019-08-14</td>\n",
       "      <td>4990</td>\n",
       "      <td>A</td>\n",
       "      <td>380064637</td>\n",
       "      <td>2019-08-27</td>\n",
       "      <td>13740</td>\n",
       "      <td>B</td>\n",
       "    </tr>\n",
       "    <tr>\n",
       "      <th>180</th>\n",
       "      <td>3612788481</td>\n",
       "      <td>2712142231</td>\n",
       "      <td>2019-08-14</td>\n",
       "      <td>2490</td>\n",
       "      <td>A</td>\n",
       "      <td>1251767592</td>\n",
       "      <td>2019-08-16</td>\n",
       "      <td>790</td>\n",
       "      <td>B</td>\n",
       "    </tr>\n",
       "    <tr>\n",
       "      <th>181</th>\n",
       "      <td>4052155355</td>\n",
       "      <td>2949041841</td>\n",
       "      <td>2019-08-14</td>\n",
       "      <td>190</td>\n",
       "      <td>A</td>\n",
       "      <td>1329499668</td>\n",
       "      <td>2019-08-14</td>\n",
       "      <td>10380</td>\n",
       "      <td>B</td>\n",
       "    </tr>\n",
       "    <tr>\n",
       "      <th>182</th>\n",
       "      <td>1458356232</td>\n",
       "      <td>963407295</td>\n",
       "      <td>2019-08-14</td>\n",
       "      <td>4940</td>\n",
       "      <td>A</td>\n",
       "      <td>2904772834</td>\n",
       "      <td>2019-08-15</td>\n",
       "      <td>300</td>\n",
       "      <td>B</td>\n",
       "    </tr>\n",
       "  </tbody>\n",
       "</table>\n",
       "<p>183 rows × 9 columns</p>\n",
       "</div>"
      ],
      "text/plain": [
       "     transaction_id_x  visitor_id     date_x  revenue_x group_x  \\\n",
       "0          2961555356  4069496402 2019-08-15        400       A   \n",
       "1          2223239646   199603092 2019-08-15       3488       A   \n",
       "2            62794304   199603092 2019-08-22       6976       A   \n",
       "3          2971973105   199603092 2019-08-27       2790       A   \n",
       "4          1941707234   199603092 2019-08-12       6438       A   \n",
       "..                ...         ...        ...        ...     ...   \n",
       "178        3757656646  4186807279 2019-08-14       4990       A   \n",
       "179        3757656646  4186807279 2019-08-14       4990       A   \n",
       "180        3612788481  2712142231 2019-08-14       2490       A   \n",
       "181        4052155355  2949041841 2019-08-14        190       A   \n",
       "182        1458356232   963407295 2019-08-14       4940       A   \n",
       "\n",
       "     transaction_id_y     date_y  revenue_y group_y  \n",
       "0          1473132782 2019-08-12        640       B  \n",
       "1           437656952 2019-08-02       3488       B  \n",
       "2           437656952 2019-08-02       3488       B  \n",
       "3           437656952 2019-08-02       3488       B  \n",
       "4           437656952 2019-08-02       3488       B  \n",
       "..                ...        ...        ...     ...  \n",
       "178        1759418862 2019-08-21      18560       B  \n",
       "179         380064637 2019-08-27      13740       B  \n",
       "180        1251767592 2019-08-16        790       B  \n",
       "181        1329499668 2019-08-14      10380       B  \n",
       "182        2904772834 2019-08-15        300       B  \n",
       "\n",
       "[183 rows x 9 columns]"
      ]
     },
     "execution_count": 22,
     "metadata": {},
     "output_type": "execute_result"
    }
   ],
   "source": [
    "# Выделяем группы А и В теста\n",
    "df_orders_A = df_orders.loc[df_orders['group'] == 'A']\n",
    "df_orders_B = df_orders.loc[df_orders['group'] == 'B']\n",
    "\n",
    "# Находим пересечения пользователей\n",
    "df_orders_intr = pd.merge(df_orders_A, df_orders_B, how ='inner', on =['visitor_id'])\n",
    "df_orders_intr"
   ]
  },
  {
   "cell_type": "code",
   "execution_count": 23,
   "metadata": {
    "colab": {
     "base_uri": "https://localhost:8080/"
    },
    "id": "9C4IUQxdLbYD",
    "outputId": "8def1159-4eb5-407f-f3c2-ec560ca56be8"
   },
   "outputs": [
    {
     "name": "stdout",
     "output_type": "stream",
     "text": [
      "Кол-во пересечений:  0\n"
     ]
    }
   ],
   "source": [
    "# # Созраняем копию дата фрейма без пересечаний пользователей\n",
    "# df_orders_no_inter = df_orders.loc[~df_orders['visitors'].isin(df_orders_intr['visitors'])]\n",
    "# df_orders_no_inter.info()\n",
    "\n",
    "# Удаляем пересечения пользователей\n",
    "df_orders = df_orders.drop( df_orders.loc[df_orders['visitor_id'].isin(df_orders_intr['visitor_id'])].index )\n",
    "\n",
    "\n",
    "# Проверка удаления пересечений пользователей\n",
    "print('Кол-во пересечений: ', len( pd.merge(df_orders.loc[df_orders['group'] == 'A']\n",
    "                                           ,df_orders.loc[df_orders['group'] == 'B']\n",
    "                                           ,how ='inner', on =['visitor_id']) ) )"
   ]
  },
  {
   "cell_type": "code",
   "execution_count": 24,
   "metadata": {
    "colab": {
     "base_uri": "https://localhost:8080/"
    },
    "id": "-0dW4bq_u0mN",
    "outputId": "4a57fbe0-9c22-4c38-9db5-3dbf14b0562a"
   },
   "outputs": [
    {
     "data": {
      "text/html": [
       "<div>\n",
       "<style scoped>\n",
       "    .dataframe tbody tr th:only-of-type {\n",
       "        vertical-align: middle;\n",
       "    }\n",
       "\n",
       "    .dataframe tbody tr th {\n",
       "        vertical-align: top;\n",
       "    }\n",
       "\n",
       "    .dataframe thead th {\n",
       "        text-align: right;\n",
       "    }\n",
       "</style>\n",
       "<table border=\"1\" class=\"dataframe\">\n",
       "  <thead>\n",
       "    <tr style=\"text-align: right;\">\n",
       "      <th></th>\n",
       "      <th>date_x</th>\n",
       "      <th>group_x</th>\n",
       "      <th>visitors</th>\n",
       "      <th>date_y</th>\n",
       "      <th>group_y</th>\n",
       "    </tr>\n",
       "  </thead>\n",
       "  <tbody>\n",
       "    <tr>\n",
       "      <th>0</th>\n",
       "      <td>2019-08-08</td>\n",
       "      <td>A</td>\n",
       "      <td>610</td>\n",
       "      <td>2019-08-09</td>\n",
       "      <td>B</td>\n",
       "    </tr>\n",
       "    <tr>\n",
       "      <th>1</th>\n",
       "      <td>2019-08-11</td>\n",
       "      <td>A</td>\n",
       "      <td>718</td>\n",
       "      <td>2019-08-31</td>\n",
       "      <td>B</td>\n",
       "    </tr>\n",
       "    <tr>\n",
       "      <th>2</th>\n",
       "      <td>2019-08-30</td>\n",
       "      <td>A</td>\n",
       "      <td>490</td>\n",
       "      <td>2019-08-30</td>\n",
       "      <td>B</td>\n",
       "    </tr>\n",
       "  </tbody>\n",
       "</table>\n",
       "</div>"
      ],
      "text/plain": [
       "      date_x group_x  visitors     date_y group_y\n",
       "0 2019-08-08       A       610 2019-08-09       B\n",
       "1 2019-08-11       A       718 2019-08-31       B\n",
       "2 2019-08-30       A       490 2019-08-30       B"
      ]
     },
     "execution_count": 24,
     "metadata": {},
     "output_type": "execute_result"
    }
   ],
   "source": [
    "# Выделяем группы А и В теста\n",
    "df_visitors_A = df_visitors.loc[df_visitors['group'] == 'A']\n",
    "df_visitors_B = df_visitors.loc[df_visitors['group'] == 'B']\n",
    "\n",
    "# Находим пересечения пользователей\n",
    "df_visitors_intr = pd.merge(df_visitors_A, df_visitors_B, how ='inner', on =['visitors'])\n",
    "df_visitors_intr"
   ]
  },
  {
   "cell_type": "code",
   "execution_count": 25,
   "metadata": {
    "colab": {
     "base_uri": "https://localhost:8080/"
    },
    "id": "BkSLgIwIvWQy",
    "outputId": "ff8a8d6c-9037-4be7-b9a8-7727edbbf1be"
   },
   "outputs": [
    {
     "name": "stdout",
     "output_type": "stream",
     "text": [
      "Кол-во пересечений:  0\n"
     ]
    }
   ],
   "source": [
    "# # Созраняем копию дата фрейма без пересечаний пользователей\n",
    "# df_visitors_no_inter = df_visitors.loc[~df_visitors['visitors'].isin(int_df['visitors'])]\n",
    "# df_visitors_no_inter.info()\n",
    "\n",
    "# Удаляем пересечения пользователей\n",
    "df_visitors = df_visitors.drop( df_visitors.loc[df_visitors['visitors'].isin(df_visitors_intr['visitors'])].index )\n",
    "\n",
    "\n",
    "# Проверка удаления пересечений пользователей\n",
    "print('Кол-во пересечений: ', len( pd.merge(df_visitors.loc[df_visitors['group']=='A']\n",
    "                                           ,df_visitors.loc[df_visitors['group']=='B']\n",
    "                                           ,how='inner', on=['visitors']) ) )"
   ]
  },
  {
   "cell_type": "markdown",
   "metadata": {
    "id": "GhTwGkYKrgYc"
   },
   "source": [
    "В обоих датафреймах были обнаруженны пересечения пользователей которые пришлось удалять для обеспечения корректности последующего анализа."
   ]
  },
  {
   "cell_type": "markdown",
   "metadata": {
    "id": "X77OCxZXO2v1"
   },
   "source": [
    "## Создание массива уникальных пар значений дат и групп теста"
   ]
  },
  {
   "cell_type": "code",
   "execution_count": 26,
   "metadata": {
    "colab": {
     "base_uri": "https://localhost:8080/"
    },
    "id": "9QvXPW6NO2VU",
    "outputId": "c8318628-0f57-4762-b069-c7df9c71afa5"
   },
   "outputs": [
    {
     "data": {
      "text/html": [
       "<div>\n",
       "<style scoped>\n",
       "    .dataframe tbody tr th:only-of-type {\n",
       "        vertical-align: middle;\n",
       "    }\n",
       "\n",
       "    .dataframe tbody tr th {\n",
       "        vertical-align: top;\n",
       "    }\n",
       "\n",
       "    .dataframe thead th {\n",
       "        text-align: right;\n",
       "    }\n",
       "</style>\n",
       "<table border=\"1\" class=\"dataframe\">\n",
       "  <thead>\n",
       "    <tr style=\"text-align: right;\">\n",
       "      <th></th>\n",
       "      <th>date</th>\n",
       "      <th>group</th>\n",
       "    </tr>\n",
       "  </thead>\n",
       "  <tbody>\n",
       "    <tr>\n",
       "      <th>0</th>\n",
       "      <td>2019-08-15</td>\n",
       "      <td>B</td>\n",
       "    </tr>\n",
       "    <tr>\n",
       "      <th>7</th>\n",
       "      <td>2019-08-15</td>\n",
       "      <td>A</td>\n",
       "    </tr>\n",
       "    <tr>\n",
       "      <th>45</th>\n",
       "      <td>2019-08-16</td>\n",
       "      <td>A</td>\n",
       "    </tr>\n",
       "    <tr>\n",
       "      <th>47</th>\n",
       "      <td>2019-08-16</td>\n",
       "      <td>B</td>\n",
       "    </tr>\n",
       "    <tr>\n",
       "      <th>55</th>\n",
       "      <td>2019-08-01</td>\n",
       "      <td>A</td>\n",
       "    </tr>\n",
       "    <tr>\n",
       "      <th>...</th>\n",
       "      <td>...</td>\n",
       "      <td>...</td>\n",
       "    </tr>\n",
       "    <tr>\n",
       "      <th>1068</th>\n",
       "      <td>2019-08-12</td>\n",
       "      <td>A</td>\n",
       "    </tr>\n",
       "    <tr>\n",
       "      <th>1114</th>\n",
       "      <td>2019-08-13</td>\n",
       "      <td>B</td>\n",
       "    </tr>\n",
       "    <tr>\n",
       "      <th>1116</th>\n",
       "      <td>2019-08-13</td>\n",
       "      <td>A</td>\n",
       "    </tr>\n",
       "    <tr>\n",
       "      <th>1149</th>\n",
       "      <td>2019-08-14</td>\n",
       "      <td>B</td>\n",
       "    </tr>\n",
       "    <tr>\n",
       "      <th>1150</th>\n",
       "      <td>2019-08-14</td>\n",
       "      <td>A</td>\n",
       "    </tr>\n",
       "  </tbody>\n",
       "</table>\n",
       "<p>62 rows × 2 columns</p>\n",
       "</div>"
      ],
      "text/plain": [
       "           date group\n",
       "0    2019-08-15     B\n",
       "7    2019-08-15     A\n",
       "45   2019-08-16     A\n",
       "47   2019-08-16     B\n",
       "55   2019-08-01     A\n",
       "...         ...   ...\n",
       "1068 2019-08-12     A\n",
       "1114 2019-08-13     B\n",
       "1116 2019-08-13     A\n",
       "1149 2019-08-14     B\n",
       "1150 2019-08-14     A\n",
       "\n",
       "[62 rows x 2 columns]"
      ]
     },
     "execution_count": 26,
     "metadata": {},
     "output_type": "execute_result"
    }
   ],
   "source": [
    "datesGroups = df_orders[['date','group']].drop_duplicates()\n",
    "datesGroups"
   ]
  },
  {
   "cell_type": "markdown",
   "metadata": {
    "id": "8CsAGkvJ0CYN"
   },
   "source": [
    "## Получаем агрегированные кумулятивные данные о заказах по дням "
   ]
  },
  {
   "cell_type": "code",
   "execution_count": 27,
   "metadata": {
    "colab": {
     "base_uri": "https://localhost:8080/"
    },
    "id": "fKJOnmcF0TJb",
    "outputId": "a9382475-b953-44d7-91f3-d9e9fff30ca4"
   },
   "outputs": [
    {
     "data": {
      "text/html": [
       "<div>\n",
       "<style scoped>\n",
       "    .dataframe tbody tr th:only-of-type {\n",
       "        vertical-align: middle;\n",
       "    }\n",
       "\n",
       "    .dataframe tbody tr th {\n",
       "        vertical-align: top;\n",
       "    }\n",
       "\n",
       "    .dataframe thead th {\n",
       "        text-align: right;\n",
       "    }\n",
       "</style>\n",
       "<table border=\"1\" class=\"dataframe\">\n",
       "  <thead>\n",
       "    <tr style=\"text-align: right;\">\n",
       "      <th></th>\n",
       "      <th>date</th>\n",
       "      <th>group</th>\n",
       "      <th>transaction_id</th>\n",
       "      <th>visitor_id</th>\n",
       "      <th>revenue</th>\n",
       "    </tr>\n",
       "  </thead>\n",
       "  <tbody>\n",
       "    <tr>\n",
       "      <th>55</th>\n",
       "      <td>2019-08-01</td>\n",
       "      <td>A</td>\n",
       "      <td>23</td>\n",
       "      <td>19</td>\n",
       "      <td>142779</td>\n",
       "    </tr>\n",
       "    <tr>\n",
       "      <th>66</th>\n",
       "      <td>2019-08-01</td>\n",
       "      <td>B</td>\n",
       "      <td>17</td>\n",
       "      <td>17</td>\n",
       "      <td>59758</td>\n",
       "    </tr>\n",
       "    <tr>\n",
       "      <th>175</th>\n",
       "      <td>2019-08-02</td>\n",
       "      <td>A</td>\n",
       "      <td>42</td>\n",
       "      <td>36</td>\n",
       "      <td>234381</td>\n",
       "    </tr>\n",
       "    <tr>\n",
       "      <th>173</th>\n",
       "      <td>2019-08-02</td>\n",
       "      <td>B</td>\n",
       "      <td>40</td>\n",
       "      <td>39</td>\n",
       "      <td>221801</td>\n",
       "    </tr>\n",
       "    <tr>\n",
       "      <th>291</th>\n",
       "      <td>2019-08-03</td>\n",
       "      <td>A</td>\n",
       "      <td>66</td>\n",
       "      <td>60</td>\n",
       "      <td>346854</td>\n",
       "    </tr>\n",
       "    <tr>\n",
       "      <th>...</th>\n",
       "      <td>...</td>\n",
       "      <td>...</td>\n",
       "      <td>...</td>\n",
       "      <td>...</td>\n",
       "      <td>...</td>\n",
       "    </tr>\n",
       "    <tr>\n",
       "      <th>533</th>\n",
       "      <td>2019-08-29</td>\n",
       "      <td>B</td>\n",
       "      <td>510</td>\n",
       "      <td>490</td>\n",
       "      <td>4746610</td>\n",
       "    </tr>\n",
       "    <tr>\n",
       "      <th>757</th>\n",
       "      <td>2019-08-30</td>\n",
       "      <td>A</td>\n",
       "      <td>460</td>\n",
       "      <td>437</td>\n",
       "      <td>3311413</td>\n",
       "    </tr>\n",
       "    <tr>\n",
       "      <th>690</th>\n",
       "      <td>2019-08-30</td>\n",
       "      <td>B</td>\n",
       "      <td>531</td>\n",
       "      <td>511</td>\n",
       "      <td>4955833</td>\n",
       "    </tr>\n",
       "    <tr>\n",
       "      <th>958</th>\n",
       "      <td>2019-08-31</td>\n",
       "      <td>A</td>\n",
       "      <td>468</td>\n",
       "      <td>445</td>\n",
       "      <td>3364656</td>\n",
       "    </tr>\n",
       "    <tr>\n",
       "      <th>930</th>\n",
       "      <td>2019-08-31</td>\n",
       "      <td>B</td>\n",
       "      <td>548</td>\n",
       "      <td>528</td>\n",
       "      <td>5068972</td>\n",
       "    </tr>\n",
       "  </tbody>\n",
       "</table>\n",
       "<p>62 rows × 5 columns</p>\n",
       "</div>"
      ],
      "text/plain": [
       "          date group  transaction_id  visitor_id  revenue\n",
       "55  2019-08-01     A              23          19   142779\n",
       "66  2019-08-01     B              17          17    59758\n",
       "175 2019-08-02     A              42          36   234381\n",
       "173 2019-08-02     B              40          39   221801\n",
       "291 2019-08-03     A              66          60   346854\n",
       "..         ...   ...             ...         ...      ...\n",
       "533 2019-08-29     B             510         490  4746610\n",
       "757 2019-08-30     A             460         437  3311413\n",
       "690 2019-08-30     B             531         511  4955833\n",
       "958 2019-08-31     A             468         445  3364656\n",
       "930 2019-08-31     B             548         528  5068972\n",
       "\n",
       "[62 rows x 5 columns]"
      ]
     },
     "execution_count": 27,
     "metadata": {},
     "output_type": "execute_result"
    }
   ],
   "source": [
    "import numpy as np\n",
    "\n",
    "\n",
    "ordersAggregated = datesGroups.apply(\n",
    "      lambda x: df_orders[\n",
    "              np.logical_and(df_orders['date']  <= x['date'],\n",
    "                             df_orders['group'] == x['group'] )\n",
    "          ].agg({'date'           : 'max',\n",
    "                 'group'          : 'max',\n",
    "                 'transaction_id' : 'nunique',\n",
    "                 'visitor_id'     : 'nunique',\n",
    "                 'revenue'        : 'sum'}\n",
    "               ),\n",
    "      axis=1\n",
    ").sort_values(by=['date', 'group'])\n",
    "\n",
    "# Выводим результат\n",
    "ordersAggregated"
   ]
  },
  {
   "cell_type": "markdown",
   "metadata": {
    "id": "gmEtXj3G4225"
   },
   "source": [
    "## Получили агрегированные кумулятивные данные о посетителях по дням"
   ]
  },
  {
   "cell_type": "code",
   "execution_count": 28,
   "metadata": {
    "colab": {
     "base_uri": "https://localhost:8080/"
    },
    "id": "cc4m2iav48e_",
    "outputId": "f3e00fd8-4b4e-4730-a811-d94a31a0395d"
   },
   "outputs": [
    {
     "data": {
      "text/html": [
       "<div>\n",
       "<style scoped>\n",
       "    .dataframe tbody tr th:only-of-type {\n",
       "        vertical-align: middle;\n",
       "    }\n",
       "\n",
       "    .dataframe tbody tr th {\n",
       "        vertical-align: top;\n",
       "    }\n",
       "\n",
       "    .dataframe thead th {\n",
       "        text-align: right;\n",
       "    }\n",
       "</style>\n",
       "<table border=\"1\" class=\"dataframe\">\n",
       "  <thead>\n",
       "    <tr style=\"text-align: right;\">\n",
       "      <th></th>\n",
       "      <th>date</th>\n",
       "      <th>group</th>\n",
       "      <th>visitors</th>\n",
       "    </tr>\n",
       "  </thead>\n",
       "  <tbody>\n",
       "    <tr>\n",
       "      <th>55</th>\n",
       "      <td>2019-08-01</td>\n",
       "      <td>A</td>\n",
       "      <td>719</td>\n",
       "    </tr>\n",
       "    <tr>\n",
       "      <th>66</th>\n",
       "      <td>2019-08-01</td>\n",
       "      <td>B</td>\n",
       "      <td>713</td>\n",
       "    </tr>\n",
       "    <tr>\n",
       "      <th>175</th>\n",
       "      <td>2019-08-02</td>\n",
       "      <td>A</td>\n",
       "      <td>1338</td>\n",
       "    </tr>\n",
       "    <tr>\n",
       "      <th>173</th>\n",
       "      <td>2019-08-02</td>\n",
       "      <td>B</td>\n",
       "      <td>1294</td>\n",
       "    </tr>\n",
       "    <tr>\n",
       "      <th>291</th>\n",
       "      <td>2019-08-03</td>\n",
       "      <td>A</td>\n",
       "      <td>1845</td>\n",
       "    </tr>\n",
       "    <tr>\n",
       "      <th>...</th>\n",
       "      <td>...</td>\n",
       "      <td>...</td>\n",
       "      <td>...</td>\n",
       "    </tr>\n",
       "    <tr>\n",
       "      <th>757</th>\n",
       "      <td>2019-08-29</td>\n",
       "      <td>A</td>\n",
       "      <td>16219</td>\n",
       "    </tr>\n",
       "    <tr>\n",
       "      <th>533</th>\n",
       "      <td>2019-08-29</td>\n",
       "      <td>B</td>\n",
       "      <td>17098</td>\n",
       "    </tr>\n",
       "    <tr>\n",
       "      <th>690</th>\n",
       "      <td>2019-08-29</td>\n",
       "      <td>B</td>\n",
       "      <td>17098</td>\n",
       "    </tr>\n",
       "    <tr>\n",
       "      <th>930</th>\n",
       "      <td>2019-08-29</td>\n",
       "      <td>B</td>\n",
       "      <td>17098</td>\n",
       "    </tr>\n",
       "    <tr>\n",
       "      <th>958</th>\n",
       "      <td>2019-08-31</td>\n",
       "      <td>A</td>\n",
       "      <td>16918</td>\n",
       "    </tr>\n",
       "  </tbody>\n",
       "</table>\n",
       "<p>62 rows × 3 columns</p>\n",
       "</div>"
      ],
      "text/plain": [
       "          date group  visitors\n",
       "55  2019-08-01     A       719\n",
       "66  2019-08-01     B       713\n",
       "175 2019-08-02     A      1338\n",
       "173 2019-08-02     B      1294\n",
       "291 2019-08-03     A      1845\n",
       "..         ...   ...       ...\n",
       "757 2019-08-29     A     16219\n",
       "533 2019-08-29     B     17098\n",
       "690 2019-08-29     B     17098\n",
       "930 2019-08-29     B     17098\n",
       "958 2019-08-31     A     16918\n",
       "\n",
       "[62 rows x 3 columns]"
      ]
     },
     "execution_count": 28,
     "metadata": {},
     "output_type": "execute_result"
    }
   ],
   "source": [
    "visitorsAggregated = datesGroups.apply(\n",
    "    lambda x: df_visitors[\n",
    "            np.logical_and(df_visitors['date']  <= x['date'],\n",
    "                           df_visitors['group'] == x['group'])\n",
    "        ].agg({'date'     : 'max',\n",
    "               'group'    : 'max',\n",
    "               'visitors' : 'sum'}),\n",
    "    axis=1\n",
    ").sort_values(by=['date', 'group'])\n",
    "\n",
    "# Выводим результат\n",
    "visitorsAggregated"
   ]
  },
  {
   "cell_type": "markdown",
   "metadata": {
    "id": "kPdQTCg_6mTN"
   },
   "source": [
    "## Объединили данные в одной таблице"
   ]
  },
  {
   "cell_type": "code",
   "execution_count": 29,
   "metadata": {
    "colab": {
     "base_uri": "https://localhost:8080/"
    },
    "id": "TUg_0n0Y69JS",
    "outputId": "f4896acb-bfe6-4da8-9c6f-e69d926208f0"
   },
   "outputs": [
    {
     "data": {
      "text/html": [
       "<div>\n",
       "<style scoped>\n",
       "    .dataframe tbody tr th:only-of-type {\n",
       "        vertical-align: middle;\n",
       "    }\n",
       "\n",
       "    .dataframe tbody tr th {\n",
       "        vertical-align: top;\n",
       "    }\n",
       "\n",
       "    .dataframe thead th {\n",
       "        text-align: right;\n",
       "    }\n",
       "</style>\n",
       "<table border=\"1\" class=\"dataframe\">\n",
       "  <thead>\n",
       "    <tr style=\"text-align: right;\">\n",
       "      <th></th>\n",
       "      <th>date</th>\n",
       "      <th>group</th>\n",
       "      <th>transaction_id</th>\n",
       "      <th>visitor_id</th>\n",
       "      <th>revenue</th>\n",
       "      <th>visitors</th>\n",
       "    </tr>\n",
       "  </thead>\n",
       "  <tbody>\n",
       "    <tr>\n",
       "      <th>0</th>\n",
       "      <td>2019-08-01</td>\n",
       "      <td>A</td>\n",
       "      <td>23</td>\n",
       "      <td>19</td>\n",
       "      <td>142779</td>\n",
       "      <td>719</td>\n",
       "    </tr>\n",
       "    <tr>\n",
       "      <th>1</th>\n",
       "      <td>2019-08-01</td>\n",
       "      <td>B</td>\n",
       "      <td>17</td>\n",
       "      <td>17</td>\n",
       "      <td>59758</td>\n",
       "      <td>713</td>\n",
       "    </tr>\n",
       "    <tr>\n",
       "      <th>2</th>\n",
       "      <td>2019-08-02</td>\n",
       "      <td>A</td>\n",
       "      <td>42</td>\n",
       "      <td>36</td>\n",
       "      <td>234381</td>\n",
       "      <td>1338</td>\n",
       "    </tr>\n",
       "    <tr>\n",
       "      <th>3</th>\n",
       "      <td>2019-08-02</td>\n",
       "      <td>B</td>\n",
       "      <td>40</td>\n",
       "      <td>39</td>\n",
       "      <td>221801</td>\n",
       "      <td>1294</td>\n",
       "    </tr>\n",
       "    <tr>\n",
       "      <th>4</th>\n",
       "      <td>2019-08-03</td>\n",
       "      <td>A</td>\n",
       "      <td>66</td>\n",
       "      <td>60</td>\n",
       "      <td>346854</td>\n",
       "      <td>1845</td>\n",
       "    </tr>\n",
       "    <tr>\n",
       "      <th>...</th>\n",
       "      <td>...</td>\n",
       "      <td>...</td>\n",
       "      <td>...</td>\n",
       "      <td>...</td>\n",
       "      <td>...</td>\n",
       "      <td>...</td>\n",
       "    </tr>\n",
       "    <tr>\n",
       "      <th>57</th>\n",
       "      <td>2019-08-29</td>\n",
       "      <td>A</td>\n",
       "      <td>451</td>\n",
       "      <td>430</td>\n",
       "      <td>3233233</td>\n",
       "      <td>16219</td>\n",
       "    </tr>\n",
       "    <tr>\n",
       "      <th>58</th>\n",
       "      <td>2019-08-29</td>\n",
       "      <td>B</td>\n",
       "      <td>510</td>\n",
       "      <td>490</td>\n",
       "      <td>4746610</td>\n",
       "      <td>17098</td>\n",
       "    </tr>\n",
       "    <tr>\n",
       "      <th>59</th>\n",
       "      <td>2019-08-29</td>\n",
       "      <td>B</td>\n",
       "      <td>510</td>\n",
       "      <td>490</td>\n",
       "      <td>4746610</td>\n",
       "      <td>17098</td>\n",
       "    </tr>\n",
       "    <tr>\n",
       "      <th>60</th>\n",
       "      <td>2019-08-29</td>\n",
       "      <td>B</td>\n",
       "      <td>510</td>\n",
       "      <td>490</td>\n",
       "      <td>4746610</td>\n",
       "      <td>17098</td>\n",
       "    </tr>\n",
       "    <tr>\n",
       "      <th>61</th>\n",
       "      <td>2019-08-31</td>\n",
       "      <td>A</td>\n",
       "      <td>468</td>\n",
       "      <td>445</td>\n",
       "      <td>3364656</td>\n",
       "      <td>16918</td>\n",
       "    </tr>\n",
       "  </tbody>\n",
       "</table>\n",
       "<p>62 rows × 6 columns</p>\n",
       "</div>"
      ],
      "text/plain": [
       "         date group  transaction_id  visitor_id  revenue  visitors\n",
       "0  2019-08-01     A              23          19   142779       719\n",
       "1  2019-08-01     B              17          17    59758       713\n",
       "2  2019-08-02     A              42          36   234381      1338\n",
       "3  2019-08-02     B              40          39   221801      1294\n",
       "4  2019-08-03     A              66          60   346854      1845\n",
       "..        ...   ...             ...         ...      ...       ...\n",
       "57 2019-08-29     A             451         430  3233233     16219\n",
       "58 2019-08-29     B             510         490  4746610     17098\n",
       "59 2019-08-29     B             510         490  4746610     17098\n",
       "60 2019-08-29     B             510         490  4746610     17098\n",
       "61 2019-08-31     A             468         445  3364656     16918\n",
       "\n",
       "[62 rows x 6 columns]"
      ]
     },
     "execution_count": 29,
     "metadata": {},
     "output_type": "execute_result"
    }
   ],
   "source": [
    "cumulativeData = pd.merge(ordersAggregated, visitorsAggregated,\n",
    "        #  how='outer',\n",
    "        #  how='inner',\n",
    "         on=['date', 'group'])\n",
    "\n",
    "# Выводим результат\n",
    "cumulativeData"
   ]
  },
  {
   "cell_type": "code",
   "execution_count": 30,
   "metadata": {
    "colab": {
     "base_uri": "https://localhost:8080/"
    },
    "id": "xYwt26uKAa9-",
    "outputId": "99ca5c99-c669-42a0-b99b-7558e8c3df2c"
   },
   "outputs": [
    {
     "data": {
      "text/html": [
       "<div>\n",
       "<style scoped>\n",
       "    .dataframe tbody tr th:only-of-type {\n",
       "        vertical-align: middle;\n",
       "    }\n",
       "\n",
       "    .dataframe tbody tr th {\n",
       "        vertical-align: top;\n",
       "    }\n",
       "\n",
       "    .dataframe thead th {\n",
       "        text-align: right;\n",
       "    }\n",
       "</style>\n",
       "<table border=\"1\" class=\"dataframe\">\n",
       "  <thead>\n",
       "    <tr style=\"text-align: right;\">\n",
       "      <th></th>\n",
       "      <th>date</th>\n",
       "      <th>group</th>\n",
       "      <th>orders</th>\n",
       "      <th>buyers</th>\n",
       "      <th>revenue</th>\n",
       "      <th>visitors</th>\n",
       "    </tr>\n",
       "  </thead>\n",
       "  <tbody>\n",
       "    <tr>\n",
       "      <th>0</th>\n",
       "      <td>2019-08-01</td>\n",
       "      <td>A</td>\n",
       "      <td>23</td>\n",
       "      <td>19</td>\n",
       "      <td>142779</td>\n",
       "      <td>719</td>\n",
       "    </tr>\n",
       "    <tr>\n",
       "      <th>1</th>\n",
       "      <td>2019-08-01</td>\n",
       "      <td>B</td>\n",
       "      <td>17</td>\n",
       "      <td>17</td>\n",
       "      <td>59758</td>\n",
       "      <td>713</td>\n",
       "    </tr>\n",
       "    <tr>\n",
       "      <th>2</th>\n",
       "      <td>2019-08-02</td>\n",
       "      <td>A</td>\n",
       "      <td>42</td>\n",
       "      <td>36</td>\n",
       "      <td>234381</td>\n",
       "      <td>1338</td>\n",
       "    </tr>\n",
       "    <tr>\n",
       "      <th>3</th>\n",
       "      <td>2019-08-02</td>\n",
       "      <td>B</td>\n",
       "      <td>40</td>\n",
       "      <td>39</td>\n",
       "      <td>221801</td>\n",
       "      <td>1294</td>\n",
       "    </tr>\n",
       "    <tr>\n",
       "      <th>4</th>\n",
       "      <td>2019-08-03</td>\n",
       "      <td>A</td>\n",
       "      <td>66</td>\n",
       "      <td>60</td>\n",
       "      <td>346854</td>\n",
       "      <td>1845</td>\n",
       "    </tr>\n",
       "    <tr>\n",
       "      <th>...</th>\n",
       "      <td>...</td>\n",
       "      <td>...</td>\n",
       "      <td>...</td>\n",
       "      <td>...</td>\n",
       "      <td>...</td>\n",
       "      <td>...</td>\n",
       "    </tr>\n",
       "    <tr>\n",
       "      <th>57</th>\n",
       "      <td>2019-08-29</td>\n",
       "      <td>A</td>\n",
       "      <td>451</td>\n",
       "      <td>430</td>\n",
       "      <td>3233233</td>\n",
       "      <td>16219</td>\n",
       "    </tr>\n",
       "    <tr>\n",
       "      <th>58</th>\n",
       "      <td>2019-08-29</td>\n",
       "      <td>B</td>\n",
       "      <td>510</td>\n",
       "      <td>490</td>\n",
       "      <td>4746610</td>\n",
       "      <td>17098</td>\n",
       "    </tr>\n",
       "    <tr>\n",
       "      <th>59</th>\n",
       "      <td>2019-08-29</td>\n",
       "      <td>B</td>\n",
       "      <td>510</td>\n",
       "      <td>490</td>\n",
       "      <td>4746610</td>\n",
       "      <td>17098</td>\n",
       "    </tr>\n",
       "    <tr>\n",
       "      <th>60</th>\n",
       "      <td>2019-08-29</td>\n",
       "      <td>B</td>\n",
       "      <td>510</td>\n",
       "      <td>490</td>\n",
       "      <td>4746610</td>\n",
       "      <td>17098</td>\n",
       "    </tr>\n",
       "    <tr>\n",
       "      <th>61</th>\n",
       "      <td>2019-08-31</td>\n",
       "      <td>A</td>\n",
       "      <td>468</td>\n",
       "      <td>445</td>\n",
       "      <td>3364656</td>\n",
       "      <td>16918</td>\n",
       "    </tr>\n",
       "  </tbody>\n",
       "</table>\n",
       "<p>62 rows × 6 columns</p>\n",
       "</div>"
      ],
      "text/plain": [
       "         date group  orders  buyers  revenue  visitors\n",
       "0  2019-08-01     A      23      19   142779       719\n",
       "1  2019-08-01     B      17      17    59758       713\n",
       "2  2019-08-02     A      42      36   234381      1338\n",
       "3  2019-08-02     B      40      39   221801      1294\n",
       "4  2019-08-03     A      66      60   346854      1845\n",
       "..        ...   ...     ...     ...      ...       ...\n",
       "57 2019-08-29     A     451     430  3233233     16219\n",
       "58 2019-08-29     B     510     490  4746610     17098\n",
       "59 2019-08-29     B     510     490  4746610     17098\n",
       "60 2019-08-29     B     510     490  4746610     17098\n",
       "61 2019-08-31     A     468     445  3364656     16918\n",
       "\n",
       "[62 rows x 6 columns]"
      ]
     },
     "execution_count": 30,
     "metadata": {},
     "output_type": "execute_result"
    }
   ],
   "source": [
    "# Изменим названия столбцов\n",
    "cumulativeData.columns = ['date', 'group', 'orders', 'buyers', 'revenue', 'visitors']\n",
    "\n",
    "# Выводим результат\n",
    "cumulativeData"
   ]
  },
  {
   "cell_type": "markdown",
   "metadata": {
    "id": "28hJE57Az4gq"
   },
   "source": [
    "Теперь все агрегированные кумулятивные данные по действиям посетителей тестируемого объекта сведены в одной таблице"
   ]
  },
  {
   "cell_type": "markdown",
   "metadata": {
    "id": "KqpAlGVhJ5h-"
   },
   "source": [
    "##  Задание индивидуального варианта для 1 части"
   ]
  },
  {
   "cell_type": "markdown",
   "metadata": {
    "id": "hgNTnPNoLDrN"
   },
   "source": [
    "### 4 вариант (из 6 возможных 10 варианту соотвнетствует имменно этот)\n",
    "\n",
    "Изобразить точечный график числа заказов по пользователям."
   ]
  },
  {
   "cell_type": "markdown",
   "metadata": {
    "id": "j3v0YiC_IsaQ"
   },
   "source": [
    "### Разделим кумулятивные данные на группы А и В"
   ]
  },
  {
   "cell_type": "markdown",
   "metadata": {
    "id": "G0Pao9Uy6LPp"
   },
   "source": [
    "В условии в методичке (текст из методы «Используйте cumulativeData. Разделите cumulativeData на cumulativeRevenueA и cumulativeRevenueB – для группы А и B.») требуется использовать полученную ранее таблицу агрегированных данных для выполнения задания, однако формулировка задания подразумевает создание другой таблицы для построения графика.\n",
    "\n",
    "Использовать агрегированные в прошлых пунктах данные для выполнения построения графика числа заказов по пользователям не получится, потому что в них нет разделения на отдельных пользователей, и мы не сможем узнать сколько заказов сделал каждый из них.\n"
   ]
  },
  {
   "cell_type": "code",
   "execution_count": 31,
   "metadata": {
    "id": "YbGTrLhm6saM"
   },
   "outputs": [],
   "source": [
    "# Комулятивные данные о группе А\n",
    "cumulativeRevenueA = cumulativeData.loc[cumulativeData['group'] == 'A']\n",
    "# Комулятивные данные о группе В\n",
    "cumulativeRevenueB = cumulativeData.loc[cumulativeData['group'] == 'B']\n",
    "\n",
    "# cumulativeRevenueA.info()\n",
    "# cumulativeRevenueB.info()"
   ]
  },
  {
   "cell_type": "code",
   "execution_count": 32,
   "metadata": {
    "colab": {
     "base_uri": "https://localhost:8080/"
    },
    "id": "z7YBK8nYVHde",
    "outputId": "a59bf33f-8ac4-4ce7-89d5-c59b2d6a3e30"
   },
   "outputs": [
    {
     "data": {
      "text/html": [
       "<div>\n",
       "<style scoped>\n",
       "    .dataframe tbody tr th:only-of-type {\n",
       "        vertical-align: middle;\n",
       "    }\n",
       "\n",
       "    .dataframe tbody tr th {\n",
       "        vertical-align: top;\n",
       "    }\n",
       "\n",
       "    .dataframe thead th {\n",
       "        text-align: right;\n",
       "    }\n",
       "</style>\n",
       "<table border=\"1\" class=\"dataframe\">\n",
       "  <thead>\n",
       "    <tr style=\"text-align: right;\">\n",
       "      <th></th>\n",
       "      <th>date</th>\n",
       "      <th>group</th>\n",
       "      <th>orders</th>\n",
       "      <th>buyers</th>\n",
       "      <th>revenue</th>\n",
       "      <th>visitors</th>\n",
       "    </tr>\n",
       "  </thead>\n",
       "  <tbody>\n",
       "    <tr>\n",
       "      <th>0</th>\n",
       "      <td>2019-08-01</td>\n",
       "      <td>A</td>\n",
       "      <td>23</td>\n",
       "      <td>19</td>\n",
       "      <td>142779</td>\n",
       "      <td>719</td>\n",
       "    </tr>\n",
       "    <tr>\n",
       "      <th>2</th>\n",
       "      <td>2019-08-02</td>\n",
       "      <td>A</td>\n",
       "      <td>42</td>\n",
       "      <td>36</td>\n",
       "      <td>234381</td>\n",
       "      <td>1338</td>\n",
       "    </tr>\n",
       "    <tr>\n",
       "      <th>4</th>\n",
       "      <td>2019-08-03</td>\n",
       "      <td>A</td>\n",
       "      <td>66</td>\n",
       "      <td>60</td>\n",
       "      <td>346854</td>\n",
       "      <td>1845</td>\n",
       "    </tr>\n",
       "    <tr>\n",
       "      <th>6</th>\n",
       "      <td>2019-08-04</td>\n",
       "      <td>A</td>\n",
       "      <td>77</td>\n",
       "      <td>71</td>\n",
       "      <td>388030</td>\n",
       "      <td>2562</td>\n",
       "    </tr>\n",
       "    <tr>\n",
       "      <th>8</th>\n",
       "      <td>2019-08-05</td>\n",
       "      <td>A</td>\n",
       "      <td>99</td>\n",
       "      <td>92</td>\n",
       "      <td>474413</td>\n",
       "      <td>3318</td>\n",
       "    </tr>\n",
       "  </tbody>\n",
       "</table>\n",
       "</div>"
      ],
      "text/plain": [
       "        date group  orders  buyers  revenue  visitors\n",
       "0 2019-08-01     A      23      19   142779       719\n",
       "2 2019-08-02     A      42      36   234381      1338\n",
       "4 2019-08-03     A      66      60   346854      1845\n",
       "6 2019-08-04     A      77      71   388030      2562\n",
       "8 2019-08-05     A      99      92   474413      3318"
      ]
     },
     "execution_count": 32,
     "metadata": {},
     "output_type": "execute_result"
    }
   ],
   "source": [
    "cumulativeRevenueA.head()"
   ]
  },
  {
   "cell_type": "code",
   "execution_count": 33,
   "metadata": {
    "colab": {
     "base_uri": "https://localhost:8080/"
    },
    "id": "hWXhwfIwVIvV",
    "outputId": "7de03ad7-d0b9-45aa-aed5-1c3da103db24"
   },
   "outputs": [
    {
     "data": {
      "text/html": [
       "<div>\n",
       "<style scoped>\n",
       "    .dataframe tbody tr th:only-of-type {\n",
       "        vertical-align: middle;\n",
       "    }\n",
       "\n",
       "    .dataframe tbody tr th {\n",
       "        vertical-align: top;\n",
       "    }\n",
       "\n",
       "    .dataframe thead th {\n",
       "        text-align: right;\n",
       "    }\n",
       "</style>\n",
       "<table border=\"1\" class=\"dataframe\">\n",
       "  <thead>\n",
       "    <tr style=\"text-align: right;\">\n",
       "      <th></th>\n",
       "      <th>date</th>\n",
       "      <th>group</th>\n",
       "      <th>orders</th>\n",
       "      <th>buyers</th>\n",
       "      <th>revenue</th>\n",
       "      <th>visitors</th>\n",
       "    </tr>\n",
       "  </thead>\n",
       "  <tbody>\n",
       "    <tr>\n",
       "      <th>1</th>\n",
       "      <td>2019-08-01</td>\n",
       "      <td>B</td>\n",
       "      <td>17</td>\n",
       "      <td>17</td>\n",
       "      <td>59758</td>\n",
       "      <td>713</td>\n",
       "    </tr>\n",
       "    <tr>\n",
       "      <th>3</th>\n",
       "      <td>2019-08-02</td>\n",
       "      <td>B</td>\n",
       "      <td>40</td>\n",
       "      <td>39</td>\n",
       "      <td>221801</td>\n",
       "      <td>1294</td>\n",
       "    </tr>\n",
       "    <tr>\n",
       "      <th>5</th>\n",
       "      <td>2019-08-03</td>\n",
       "      <td>B</td>\n",
       "      <td>54</td>\n",
       "      <td>53</td>\n",
       "      <td>288850</td>\n",
       "      <td>1803</td>\n",
       "    </tr>\n",
       "    <tr>\n",
       "      <th>7</th>\n",
       "      <td>2019-08-04</td>\n",
       "      <td>B</td>\n",
       "      <td>68</td>\n",
       "      <td>66</td>\n",
       "      <td>385740</td>\n",
       "      <td>2573</td>\n",
       "    </tr>\n",
       "    <tr>\n",
       "      <th>9</th>\n",
       "      <td>2019-08-05</td>\n",
       "      <td>B</td>\n",
       "      <td>89</td>\n",
       "      <td>87</td>\n",
       "      <td>475648</td>\n",
       "      <td>3280</td>\n",
       "    </tr>\n",
       "  </tbody>\n",
       "</table>\n",
       "</div>"
      ],
      "text/plain": [
       "        date group  orders  buyers  revenue  visitors\n",
       "1 2019-08-01     B      17      17    59758       713\n",
       "3 2019-08-02     B      40      39   221801      1294\n",
       "5 2019-08-03     B      54      53   288850      1803\n",
       "7 2019-08-04     B      68      66   385740      2573\n",
       "9 2019-08-05     B      89      87   475648      3280"
      ]
     },
     "execution_count": 33,
     "metadata": {},
     "output_type": "execute_result"
    }
   ],
   "source": [
    "cumulativeRevenueB.head()"
   ]
  },
  {
   "cell_type": "markdown",
   "metadata": {
    "id": "cf-viWXF6bgZ"
   },
   "source": [
    "### Построение точечного графика числа заказов по пользователям"
   ]
  },
  {
   "cell_type": "code",
   "execution_count": 34,
   "metadata": {
    "colab": {
     "base_uri": "https://localhost:8080/",
     "height": 423
    },
    "id": "FFLvL-u8FE45",
    "outputId": "8d14a334-618d-457c-c2e8-cf22c47aa15b"
   },
   "outputs": [
    {
     "data": {
      "text/html": [
       "<div>\n",
       "<style scoped>\n",
       "    .dataframe tbody tr th:only-of-type {\n",
       "        vertical-align: middle;\n",
       "    }\n",
       "\n",
       "    .dataframe tbody tr th {\n",
       "        vertical-align: top;\n",
       "    }\n",
       "\n",
       "    .dataframe thead th {\n",
       "        text-align: right;\n",
       "    }\n",
       "</style>\n",
       "<table border=\"1\" class=\"dataframe\">\n",
       "  <thead>\n",
       "    <tr style=\"text-align: right;\">\n",
       "      <th></th>\n",
       "      <th>visitor_id</th>\n",
       "      <th>group</th>\n",
       "      <th>orders</th>\n",
       "    </tr>\n",
       "  </thead>\n",
       "  <tbody>\n",
       "    <tr>\n",
       "      <th>908</th>\n",
       "      <td>3967698036</td>\n",
       "      <td>A</td>\n",
       "      <td>3</td>\n",
       "    </tr>\n",
       "    <tr>\n",
       "      <th>55</th>\n",
       "      <td>249864742</td>\n",
       "      <td>B</td>\n",
       "      <td>3</td>\n",
       "    </tr>\n",
       "    <tr>\n",
       "      <th>478</th>\n",
       "      <td>2108163459</td>\n",
       "      <td>A</td>\n",
       "      <td>3</td>\n",
       "    </tr>\n",
       "    <tr>\n",
       "      <th>687</th>\n",
       "      <td>2988190573</td>\n",
       "      <td>A</td>\n",
       "      <td>3</td>\n",
       "    </tr>\n",
       "    <tr>\n",
       "      <th>890</th>\n",
       "      <td>3908431265</td>\n",
       "      <td>A</td>\n",
       "      <td>3</td>\n",
       "    </tr>\n",
       "    <tr>\n",
       "      <th>...</th>\n",
       "      <td>...</td>\n",
       "      <td>...</td>\n",
       "      <td>...</td>\n",
       "    </tr>\n",
       "    <tr>\n",
       "      <th>331</th>\n",
       "      <td>1438226485</td>\n",
       "      <td>B</td>\n",
       "      <td>1</td>\n",
       "    </tr>\n",
       "    <tr>\n",
       "      <th>332</th>\n",
       "      <td>1452540367</td>\n",
       "      <td>A</td>\n",
       "      <td>1</td>\n",
       "    </tr>\n",
       "    <tr>\n",
       "      <th>333</th>\n",
       "      <td>1455323168</td>\n",
       "      <td>B</td>\n",
       "      <td>1</td>\n",
       "    </tr>\n",
       "    <tr>\n",
       "      <th>334</th>\n",
       "      <td>1455861274</td>\n",
       "      <td>B</td>\n",
       "      <td>1</td>\n",
       "    </tr>\n",
       "    <tr>\n",
       "      <th>972</th>\n",
       "      <td>4283872382</td>\n",
       "      <td>B</td>\n",
       "      <td>1</td>\n",
       "    </tr>\n",
       "  </tbody>\n",
       "</table>\n",
       "<p>973 rows × 3 columns</p>\n",
       "</div>"
      ],
      "text/plain": [
       "     visitor_id group  orders\n",
       "908  3967698036     A       3\n",
       "55    249864742     B       3\n",
       "478  2108163459     A       3\n",
       "687  2988190573     A       3\n",
       "890  3908431265     A       3\n",
       "..          ...   ...     ...\n",
       "331  1438226485     B       1\n",
       "332  1452540367     A       1\n",
       "333  1455323168     B       1\n",
       "334  1455861274     B       1\n",
       "972  4283872382     B       1\n",
       "\n",
       "[973 rows x 3 columns]"
      ]
     },
     "execution_count": 34,
     "metadata": {},
     "output_type": "execute_result"
    }
   ],
   "source": [
    "# Создаем датафрейм для построения графика\n",
    "# ordersByUsers = df_orders.loc[:,['visitor_id','transaction_id']].groupby(by=['visitor_id'])[\"transaction_id\"].    \\\n",
    "#                           nunique().to_frame().reset_index().sort_values(by=['transaction_id'], ascending = False)\n",
    "# ordersByUsers.columns = ['visitor_id', 'orders']\n",
    "\n",
    "# С разбиением на группы (А или В)\n",
    "ordersByUsers = df_orders.loc[:,['visitor_id','transaction_id','group']].groupby(by=['visitor_id','group'])[\"transaction_id\"].nunique().to_frame().reset_index().sort_values(by=['transaction_id'], ascending = False)\n",
    "ordersByUsers.columns = ['visitor_id', 'group', 'orders']\n",
    "\n",
    "ordersByUsers"
   ]
  },
  {
   "cell_type": "code",
   "execution_count": 35,
   "metadata": {
    "colab": {
     "base_uri": "https://localhost:8080/",
     "height": 592
    },
    "id": "gNXe3CAyFKyA",
    "outputId": "2ae245bc-113e-4f17-f194-716378dc4109"
   },
   "outputs": [
    {
     "data": {
      "image/png": "[encoded data removed]",
      "text/plain": [
       "<Figure size 1500x1000 with 1 Axes>"
      ]
     },
     "metadata": {},
     "output_type": "display_data"
    }
   ],
   "source": [
    "from matplotlib import pyplot as plt\n",
    "\n",
    "\n",
    "# Построениие графика\n",
    "plt.figure(figsize=(15, 10))\n",
    "plt.scatter(x = pd.Series(range(0,len(ordersByUsers)))\n",
    "           ,y = ordersByUsers[['orders']]\n",
    "           ,c = ordersByUsers.group.map({'A':'tab:red', 'B':'tab:green'}) # Добавляет цвет группы\n",
    "            )\n",
    "plt.show()"
   ]
  },
  {
   "cell_type": "markdown",
   "metadata": {
    "id": "3ja3DnlBAThg"
   },
   "source": [
    "Максимальное количество, сделанных одним посетителем ровно 3, однако в большинстве случаев оно не превышает 1."
   ]
  },
  {
   "cell_type": "markdown",
   "metadata": {
    "id": "7NZHUZ54ME9_"
   },
   "source": [
    "## Вывод по первой части\n",
    "\n",
    "Выполнив первую часть работы мы научились определять пересечения групп пользователя для А/А и А/В теста. Так же мы разобрались с тем что из себя представляют агрегированные кумулятивные данные полученные из сырых дынных логов системы, научились их создавать и строить по ним графики."
   ]
  },
  {
   "cell_type": "markdown",
   "metadata": {
    "id": "zjb59lekL34V"
   },
   "source": [
    "# Вторая часть"
   ]
  },
  {
   "cell_type": "code",
   "execution_count": 36,
   "metadata": {
    "colab": {
     "base_uri": "https://localhost:8080/",
     "height": 423
    },
    "id": "lnI2w1LCPJ5L",
    "outputId": "1199960b-5b91-4a51-a159-11264215b2ca"
   },
   "outputs": [
    {
     "data": {
      "text/html": [
       "<div>\n",
       "<style scoped>\n",
       "    .dataframe tbody tr th:only-of-type {\n",
       "        vertical-align: middle;\n",
       "    }\n",
       "\n",
       "    .dataframe tbody tr th {\n",
       "        vertical-align: top;\n",
       "    }\n",
       "\n",
       "    .dataframe thead th {\n",
       "        text-align: right;\n",
       "    }\n",
       "</style>\n",
       "<table border=\"1\" class=\"dataframe\">\n",
       "  <thead>\n",
       "    <tr style=\"text-align: right;\">\n",
       "      <th></th>\n",
       "      <th>event_name</th>\n",
       "      <th>device_id_hash</th>\n",
       "      <th>event_timestamp</th>\n",
       "      <th>exp_id</th>\n",
       "    </tr>\n",
       "  </thead>\n",
       "  <tbody>\n",
       "    <tr>\n",
       "      <th>0</th>\n",
       "      <td>MainScreenAppear</td>\n",
       "      <td>4575588528974610257</td>\n",
       "      <td>2019-07-25 04:43:36</td>\n",
       "      <td>246</td>\n",
       "    </tr>\n",
       "    <tr>\n",
       "      <th>1</th>\n",
       "      <td>MainScreenAppear</td>\n",
       "      <td>7416695313311560658</td>\n",
       "      <td>2019-07-25 11:11:42</td>\n",
       "      <td>246</td>\n",
       "    </tr>\n",
       "    <tr>\n",
       "      <th>2</th>\n",
       "      <td>PaymentScreenSuccessful</td>\n",
       "      <td>3518123091307005509</td>\n",
       "      <td>2019-07-25 11:28:47</td>\n",
       "      <td>248</td>\n",
       "    </tr>\n",
       "    <tr>\n",
       "      <th>3</th>\n",
       "      <td>CartScreenAppear</td>\n",
       "      <td>3518123091307005509</td>\n",
       "      <td>2019-07-25 11:28:47</td>\n",
       "      <td>248</td>\n",
       "    </tr>\n",
       "    <tr>\n",
       "      <th>4</th>\n",
       "      <td>PaymentScreenSuccessful</td>\n",
       "      <td>6217807653094995999</td>\n",
       "      <td>2019-07-25 11:48:42</td>\n",
       "      <td>248</td>\n",
       "    </tr>\n",
       "    <tr>\n",
       "      <th>...</th>\n",
       "      <td>...</td>\n",
       "      <td>...</td>\n",
       "      <td>...</td>\n",
       "      <td>...</td>\n",
       "    </tr>\n",
       "    <tr>\n",
       "      <th>244121</th>\n",
       "      <td>MainScreenAppear</td>\n",
       "      <td>4599628364049201812</td>\n",
       "      <td>2019-08-07 21:12:25</td>\n",
       "      <td>247</td>\n",
       "    </tr>\n",
       "    <tr>\n",
       "      <th>244122</th>\n",
       "      <td>MainScreenAppear</td>\n",
       "      <td>5849806612437486590</td>\n",
       "      <td>2019-08-07 21:13:59</td>\n",
       "      <td>246</td>\n",
       "    </tr>\n",
       "    <tr>\n",
       "      <th>244123</th>\n",
       "      <td>MainScreenAppear</td>\n",
       "      <td>5746969938801999050</td>\n",
       "      <td>2019-08-07 21:14:43</td>\n",
       "      <td>246</td>\n",
       "    </tr>\n",
       "    <tr>\n",
       "      <th>244124</th>\n",
       "      <td>MainScreenAppear</td>\n",
       "      <td>5746969938801999050</td>\n",
       "      <td>2019-08-07 21:14:58</td>\n",
       "      <td>246</td>\n",
       "    </tr>\n",
       "    <tr>\n",
       "      <th>244125</th>\n",
       "      <td>OffersScreenAppear</td>\n",
       "      <td>5746969938801999050</td>\n",
       "      <td>2019-08-07 21:15:17</td>\n",
       "      <td>246</td>\n",
       "    </tr>\n",
       "  </tbody>\n",
       "</table>\n",
       "<p>243713 rows × 4 columns</p>\n",
       "</div>"
      ],
      "text/plain": [
       "                     event_name       device_id_hash     event_timestamp  \\\n",
       "0              MainScreenAppear  4575588528974610257 2019-07-25 04:43:36   \n",
       "1              MainScreenAppear  7416695313311560658 2019-07-25 11:11:42   \n",
       "2       PaymentScreenSuccessful  3518123091307005509 2019-07-25 11:28:47   \n",
       "3              CartScreenAppear  3518123091307005509 2019-07-25 11:28:47   \n",
       "4       PaymentScreenSuccessful  6217807653094995999 2019-07-25 11:48:42   \n",
       "...                         ...                  ...                 ...   \n",
       "244121         MainScreenAppear  4599628364049201812 2019-08-07 21:12:25   \n",
       "244122         MainScreenAppear  5849806612437486590 2019-08-07 21:13:59   \n",
       "244123         MainScreenAppear  5746969938801999050 2019-08-07 21:14:43   \n",
       "244124         MainScreenAppear  5746969938801999050 2019-08-07 21:14:58   \n",
       "244125       OffersScreenAppear  5746969938801999050 2019-08-07 21:15:17   \n",
       "\n",
       "        exp_id  \n",
       "0          246  \n",
       "1          246  \n",
       "2          248  \n",
       "3          248  \n",
       "4          248  \n",
       "...        ...  \n",
       "244121     247  \n",
       "244122     246  \n",
       "244123     246  \n",
       "244124     246  \n",
       "244125     246  \n",
       "\n",
       "[243713 rows x 4 columns]"
      ]
     },
     "execution_count": 36,
     "metadata": {},
     "output_type": "execute_result"
    }
   ],
   "source": [
    "# Посмотрели данные\n",
    "df_logs_exp"
   ]
  },
  {
   "cell_type": "markdown",
   "metadata": {
    "id": "OZSZZN_vPr-_"
   },
   "source": [
    "## Вывели на экран количество каждого события в порядке убывания частоты"
   ]
  },
  {
   "cell_type": "code",
   "execution_count": 37,
   "metadata": {
    "colab": {
     "base_uri": "https://localhost:8080/"
    },
    "id": "eqVtHvTnMAoS",
    "outputId": "e1fdf1ab-8cba-4190-bb71-10f0ef164c3a"
   },
   "outputs": [
    {
     "data": {
      "text/plain": [
       "event_name\n",
       "MainScreenAppear           119101\n",
       "OffersScreenAppear          46808\n",
       "CartScreenAppear            42668\n",
       "PaymentScreenSuccessful     34118\n",
       "Tutorial                     1018\n",
       "Name: event_name, dtype: int64"
      ]
     },
     "execution_count": 37,
     "metadata": {},
     "output_type": "execute_result"
    }
   ],
   "source": [
    "# Нашли кол-во записей о каждом фиксируемом собитии\n",
    "df_logs_exp.groupby(by=['event_name'])['event_name'].count().sort_values(ascending = False)"
   ]
  },
  {
   "cell_type": "markdown",
   "metadata": {
    "id": "uUuiwZMlPy7M"
   },
   "source": [
    "Чаще всего встречается событие \"MainScreenAppear\", количество записей о нем равно 119 101."
   ]
  },
  {
   "cell_type": "markdown",
   "metadata": {
    "id": "TkQCv8JZQP5r"
   },
   "source": [
    "## Подсчитали сколько пользователей совершали каждое из этих событий"
   ]
  },
  {
   "cell_type": "code",
   "execution_count": 38,
   "metadata": {
    "colab": {
     "base_uri": "https://localhost:8080/",
     "height": 237
    },
    "id": "tGS56YhhQcuB",
    "outputId": "e4b7c2c5-813e-4b3f-cdf5-e1f88b1b673f"
   },
   "outputs": [
    {
     "data": {
      "text/html": [
       "<div>\n",
       "<style scoped>\n",
       "    .dataframe tbody tr th:only-of-type {\n",
       "        vertical-align: middle;\n",
       "    }\n",
       "\n",
       "    .dataframe tbody tr th {\n",
       "        vertical-align: top;\n",
       "    }\n",
       "\n",
       "    .dataframe thead th {\n",
       "        text-align: right;\n",
       "    }\n",
       "</style>\n",
       "<table border=\"1\" class=\"dataframe\">\n",
       "  <thead>\n",
       "    <tr style=\"text-align: right;\">\n",
       "      <th></th>\n",
       "      <th>device_id_hash</th>\n",
       "    </tr>\n",
       "    <tr>\n",
       "      <th>event_name</th>\n",
       "      <th></th>\n",
       "    </tr>\n",
       "  </thead>\n",
       "  <tbody>\n",
       "    <tr>\n",
       "      <th>MainScreenAppear</th>\n",
       "      <td>7439</td>\n",
       "    </tr>\n",
       "    <tr>\n",
       "      <th>OffersScreenAppear</th>\n",
       "      <td>4613</td>\n",
       "    </tr>\n",
       "    <tr>\n",
       "      <th>CartScreenAppear</th>\n",
       "      <td>3749</td>\n",
       "    </tr>\n",
       "    <tr>\n",
       "      <th>PaymentScreenSuccessful</th>\n",
       "      <td>3547</td>\n",
       "    </tr>\n",
       "    <tr>\n",
       "      <th>Tutorial</th>\n",
       "      <td>847</td>\n",
       "    </tr>\n",
       "  </tbody>\n",
       "</table>\n",
       "</div>"
      ],
      "text/plain": [
       "                         device_id_hash\n",
       "event_name                             \n",
       "MainScreenAppear                   7439\n",
       "OffersScreenAppear                 4613\n",
       "CartScreenAppear                   3749\n",
       "PaymentScreenSuccessful            3547\n",
       "Tutorial                            847"
      ]
     },
     "execution_count": 38,
     "metadata": {},
     "output_type": "execute_result"
    }
   ],
   "source": [
    "# Определили кол-во уникальных пользователей, совершавших каждое из событий\n",
    "df_logs_exp.groupby(by=['event_name']).agg({'device_id_hash':'nunique'}).sort_values(by=['device_id_hash'], ascending = False)"
   ]
  },
  {
   "cell_type": "markdown",
   "metadata": {
    "id": "MYscRefaAp_Z"
   },
   "source": [
    "Распределение количества пользователей согласуется с количеством  совершений каждого действия"
   ]
  },
  {
   "cell_type": "markdown",
   "metadata": {
    "id": "BUajnbT7SaLo"
   },
   "source": [
    "## Определили количество пользователей в каждой группе"
   ]
  },
  {
   "cell_type": "code",
   "execution_count": 39,
   "metadata": {
    "colab": {
     "base_uri": "https://localhost:8080/",
     "height": 175
    },
    "id": "aUWQA9DBSZdX",
    "outputId": "353f2984-416b-4d31-844f-d2f6ed5cbc2a"
   },
   "outputs": [
    {
     "data": {
      "text/html": [
       "<div>\n",
       "<style scoped>\n",
       "    .dataframe tbody tr th:only-of-type {\n",
       "        vertical-align: middle;\n",
       "    }\n",
       "\n",
       "    .dataframe tbody tr th {\n",
       "        vertical-align: top;\n",
       "    }\n",
       "\n",
       "    .dataframe thead th {\n",
       "        text-align: right;\n",
       "    }\n",
       "</style>\n",
       "<table border=\"1\" class=\"dataframe\">\n",
       "  <thead>\n",
       "    <tr style=\"text-align: right;\">\n",
       "      <th></th>\n",
       "      <th>device_id_hash</th>\n",
       "    </tr>\n",
       "    <tr>\n",
       "      <th>exp_id</th>\n",
       "      <th></th>\n",
       "    </tr>\n",
       "  </thead>\n",
       "  <tbody>\n",
       "    <tr>\n",
       "      <th>246</th>\n",
       "      <td>2489</td>\n",
       "    </tr>\n",
       "    <tr>\n",
       "      <th>247</th>\n",
       "      <td>2520</td>\n",
       "    </tr>\n",
       "    <tr>\n",
       "      <th>248</th>\n",
       "      <td>2542</td>\n",
       "    </tr>\n",
       "  </tbody>\n",
       "</table>\n",
       "</div>"
      ],
      "text/plain": [
       "        device_id_hash\n",
       "exp_id                \n",
       "246               2489\n",
       "247               2520\n",
       "248               2542"
      ]
     },
     "execution_count": 39,
     "metadata": {},
     "output_type": "execute_result"
    }
   ],
   "source": [
    "# Посчитали пользователей в группах\n",
    "df_logs_exp.groupby(by=['exp_id']).agg({'device_id_hash':'nunique'})"
   ]
  },
  {
   "cell_type": "markdown",
   "metadata": {
    "id": "rD_MrCr6Bci2"
   },
   "source": [
    "Распределение пользователей по группам равномерное"
   ]
  },
  {
   "cell_type": "markdown",
   "metadata": {
    "id": "xbEPuH60n2Xy"
   },
   "source": [
    "## Нашли пользователей, которые пересекаются в группах"
   ]
  },
  {
   "cell_type": "code",
   "execution_count": 40,
   "metadata": {
    "colab": {
     "base_uri": "https://localhost:8080/"
    },
    "id": "I9ZeCkjIoul5",
    "outputId": "18674893-397c-4368-ee1a-3414976906fe"
   },
   "outputs": [
    {
     "name": "stdout",
     "output_type": "stream",
     "text": [
      "Пересечений пользователей по группам нет\n"
     ]
    }
   ],
   "source": [
    "# Модуль для получения итератора по сочетиниям без повторений\n",
    "from itertools import combinations\n",
    "\n",
    "group = {}                                    # Словарь групп\n",
    "group_names = df_logs_exp['exp_id'].unique()  # Список названий групп\n",
    "inner_user_gr = []                            # Список кортежей с пересекающимися пользователями\n",
    "\n",
    "# Выбеляем данные о группах ('exp_id') пользователей \n",
    "for gr_name in group_names:\n",
    "  group[gr_name] = df_logs_exp.loc[df_logs_exp['exp_id'] == gr_name]\n",
    "\n",
    "# Попарно проверяем пересечение пользователей\n",
    "for first_gr_name, second_gr_name in combinations(group_names, 2):\n",
    "  first_group = group[first_gr_name]\n",
    "  second_group = group[second_gr_name]\n",
    "\n",
    "  # Находим пересекающихся пользователей и сохранием их идентификаторы ('device_id_hash') в списке\n",
    "  inner_user = pd.merge(first_group, second_group, how ='inner', on =['device_id_hash'])['device_id_hash'].unique()\n",
    "  # print(first_gr_name, second_gr_name, inner_user)  # Тестовый вывод\n",
    "\n",
    "  if len(inner_user) != 0: inner_user_gr.append((first_gr_name, second_gr_name, inner_user))\n",
    "\n",
    "if inner_user_gr: print('Список пересечений пользователей:', *inner_user_gr, sep='\\n')\n",
    "else:             print('Пересечений пользователей по группам нет')"
   ]
  },
  {
   "cell_type": "markdown",
   "metadata": {
    "id": "E4Au1xgOChRS"
   },
   "source": [
    "Так как пересечения пользователей нет нам не нужно удалять записи, которые могли бы повлиять на проверку гипотез."
   ]
  },
  {
   "cell_type": "markdown",
   "metadata": {
    "id": "vJCnBzLhAYfP"
   },
   "source": [
    "## А/А тест"
   ]
  },
  {
   "cell_type": "markdown",
   "metadata": {
    "id": "C00_cqT1ETok"
   },
   "source": [
    "**Проверка гипотезы о равенстве долей**\n",
    "\n",
    "*   Нулевая гипотеза: Группа 246 и 247 не имеет различий\n",
    "*   Альтернативная гипотеза: Группа 246 и 247 отличаются."
   ]
  },
  {
   "cell_type": "markdown",
   "metadata": {
    "id": "4UKGaaWqTo3Q"
   },
   "source": [
    "Функция получает на вход датасет (DATA), названия 2 групп которые необходимо проверить (group_a, group_b), название события для которого проводиться проверка (event) и уровень статистической значимости (alpha)."
   ]
  },
  {
   "cell_type": "code",
   "execution_count": 41,
   "metadata": {
    "id": "RDQFnupoAX2q"
   },
   "outputs": [],
   "source": [
    "from scipy import stats as st\n",
    "import numpy as np\n",
    "import math as mth\n",
    "\n",
    "def test_groups(DATA, group_a, group_b, event, alpha):\n",
    "  # получим количество успехов\n",
    "  group_users = np.array([DATA.query('event_name == @event and group == @group_a').user_id.nunique(),\n",
    "                          DATA.query('event_name == @event and group == @group_b').user_id.nunique()])\n",
    "  \n",
    "  # получим количество пользователей в группах\n",
    "  total_users = np.array([DATA.query('group == @group_a').user_id.nunique(),\n",
    "                          DATA.query('group == @group_b').user_id.nunique()])\n",
    "  # пропорция успехов в первой группе:\n",
    "  p1 = group_users[0]/total_users[0]\n",
    "\n",
    "  # пропорция успехов во второй группе:\n",
    "  p2 = group_users[1]/total_users[1]\n",
    "  \n",
    "  # пропорция успехов в комбинированном датасете:\n",
    "  p_combined = (group_users[0] + group_users[1]) / (total_users[0] + total_users[1])\n",
    "  \n",
    "  # разница пропорций в датасетах\n",
    "  difference = p1 - p2\n",
    "\n",
    "  # считаем статистику в ст.отклонениях стандартного нормального распределения\n",
    "  z_value = difference / mth.sqrt(\n",
    "      p_combined * (1 - p_combined) * (1 / total_users[0] + 1 / total_users[1])\n",
    "  )\n",
    "\n",
    "  # задаем стандартное нормальное распределение (среднее 0, ст.отклонение 1)\n",
    "  distr = st.norm(0, 1)\n",
    "\n",
    "  p_value = (1 - distr.cdf(abs(z_value))) * 2\n",
    "  print('Группы', group_a,'и', group_b, 'cобытие', event,'\\np-значение: ', p_value)\n",
    "\n",
    "  if p_value < alpha: print('Отвергаем нулевую гипотезу: есть значимая разница между долями')\n",
    "  else:               print('Не получилось отвергнуть нулевую гипотезу, нет оснований считать доли разными')"
   ]
  },
  {
   "cell_type": "code",
   "execution_count": 42,
   "metadata": {
    "id": "bc6Dsjn1J-Uy"
   },
   "outputs": [],
   "source": [
    "# Переименовываем столбцы для соответствия логике функции\n",
    "df_logs_exp.columns = ['event_name', 'user_id', 'event_timestamp', 'group']"
   ]
  },
  {
   "cell_type": "code",
   "execution_count": 43,
   "metadata": {
    "colab": {
     "base_uri": "https://localhost:8080/"
    },
    "id": "o-7RgA7WEzNQ",
    "outputId": "43dc27cd-056c-4517-d231-dca5b96390ee"
   },
   "outputs": [
    {
     "name": "stdout",
     "output_type": "stream",
     "text": [
      "Группы 246 и 247 cобытие MainScreenAppear \n",
      "p-значение:  0.5856639791209877\n",
      "Не получилось отвергнуть нулевую гипотезу, нет оснований считать доли разными\n",
      "\n",
      "Группы 246 и 247 cобытие PaymentScreenSuccessful \n",
      "p-значение:  0.10902546202332886\n",
      "Не получилось отвергнуть нулевую гипотезу, нет оснований считать доли разными\n",
      "\n",
      "Группы 246 и 247 cобытие CartScreenAppear \n",
      "p-значение:  0.19817540651836918\n",
      "Не получилось отвергнуть нулевую гипотезу, нет оснований считать доли разными\n",
      "\n",
      "Группы 246 и 247 cобытие OffersScreenAppear \n",
      "p-значение:  0.3233225048227193\n",
      "Не получилось отвергнуть нулевую гипотезу, нет оснований считать доли разными\n",
      "\n",
      "Группы 246 и 247 cобытие Tutorial \n",
      "p-значение:  0.8756574258016974\n",
      "Не получилось отвергнуть нулевую гипотезу, нет оснований считать доли разными\n",
      "\n"
     ]
    }
   ],
   "source": [
    "# Проводим А/А тест для проверки гипотизы\n",
    "for event in df_logs_exp.event_name.unique():\n",
    "  test_groups(df_logs_exp, 246, 247, event, 0.05)\n",
    "  print()"
   ]
  },
  {
   "cell_type": "markdown",
   "metadata": {
    "id": "AXTL9kdlR3Yy"
   },
   "source": [
    "Так как не удалось отвергнуть нулевую гипотезу значит доли равны.\n",
    "\n",
    "Такой результат говорит нам о том, что мы можем доверять результатам нашего теста при проведении А/В тестирования."
   ]
  },
  {
   "cell_type": "markdown",
   "metadata": {
    "id": "NRvLR_pwJOaI"
   },
   "source": [
    "## А/B тест"
   ]
  },
  {
   "cell_type": "markdown",
   "metadata": {
    "id": "FzspL9_UJbXU"
   },
   "source": [
    "* Нулевая гипотеза: Нет различиий между группой А (246) и группой B (248).\n",
    "* Альтернативная: Есть различия между контрольной и экспериментальной группами."
   ]
  },
  {
   "cell_type": "code",
   "execution_count": 44,
   "metadata": {
    "colab": {
     "base_uri": "https://localhost:8080/"
    },
    "id": "8o3StplCN-ky",
    "outputId": "5fa9a208-3025-4cf6-af8b-37d9fa9548fe"
   },
   "outputs": [
    {
     "name": "stdout",
     "output_type": "stream",
     "text": [
      "Группы 246 и 248 cобытие MainScreenAppear \n",
      "p-значение:  0.39774960182882513\n",
      "Не получилось отвергнуть нулевую гипотезу, нет оснований считать доли разными\n",
      "\n",
      "Группы 246 и 248 cобытие PaymentScreenSuccessful \n",
      "p-значение:  0.23403912852637143\n",
      "Не получилось отвергнуть нулевую гипотезу, нет оснований считать доли разными\n",
      "\n",
      "Группы 246 и 248 cобытие CartScreenAppear \n",
      "p-значение:  0.10534150642722295\n",
      "Не получилось отвергнуть нулевую гипотезу, нет оснований считать доли разными\n",
      "\n",
      "Группы 246 и 248 cобытие OffersScreenAppear \n",
      "p-значение:  0.2531656758489338\n",
      "Не получилось отвергнуть нулевую гипотезу, нет оснований считать доли разными\n",
      "\n",
      "Группы 246 и 248 cобытие Tutorial \n",
      "p-значение:  0.8962914725257976\n",
      "Не получилось отвергнуть нулевую гипотезу, нет оснований считать доли разными\n",
      "\n"
     ]
    }
   ],
   "source": [
    "# Проводим А/В тест для проверки гипотизы\n",
    "for event in df_logs_exp.event_name.unique():\n",
    "  test_groups(df_logs_exp, 246, 248, event, 0.05)\n",
    "  print()"
   ]
  },
  {
   "cell_type": "markdown",
   "metadata": {
    "id": "0V08AQLYTtJh"
   },
   "source": [
    "Так как нулевая гипотеза не была отвергнута, то тест показал, что значимых отличий между долями нет.\n",
    "\n",
    "Из этого можно сделать вывод о том, что внесенные изменения не повлияли на конверсию заказов и их можно не вводить для всех пользователей.\n",
    "\n",
    "Результатам этого теста мы можем доверять так как А/А тест был пройден успешно."
   ]
  },
  {
   "cell_type": "markdown",
   "metadata": {
    "id": "0RLhE9lXLAgl"
   },
   "source": [
    "## Вывод по второй части\n",
    "\n",
    "Определили частоту событий и нашли количество пользователей совершивших каждое из тестиремых событий в результате чего определили что больше всего записей о событии \"MainScreenAppear\" и соответственно его совершило больше всего уникальных пользователей.\n",
    "\n",
    "Произвели поиск пересекающихся пользователей, который не выдал не одного пользователя, это говорит о корректном разделении пользователей на группы.\n",
    "\n",
    "Произвели А/А тестирование результаты которого показали, что выборка достаточна и можно доверять результатам последующего А/В теста.\n",
    "\n",
    "Проведя А/В тест получили результат, говорящий о том, что тестируемые изменения не несут статистической значимости в изменение конверсии посетителей в заказы значит их можно не вносить для всех пользователей."
   ]
  },
  {
   "cell_type": "markdown",
   "metadata": {
    "id": "6K8W94AtecLu"
   },
   "source": [
    "# ОБЩИЙ ВЫВОД\n",
    "\n",
    "В ходе данной лабораторной работы мы подготовили собранные данные для анализа, избавились от пропусков и дубликатов, исправили типы данных и названия столбцов, а также проверили чтобы в данных не осталось информации о пересекающихся пользователях.\n",
    "\n",
    "В первой части работы мы получили по собранным данным агрегированные кумулятивные данные о посетителях и заказах по дням и построил график количества заказов по пользователям.\n",
    "\n",
    "Во второй части получили агрегированные данные о событиях, а также провели АА и АВ тестирование, результатом которого стало решение о том, что тестируемые на группе 248 нововведения вводить для всех пользователей не имеет смысла, потому что они не изменяют конверсию посетителей в заказы.\n",
    "\n"
   ]
  },
  {
   "cell_type": "code",
   "execution_count": null,
   "metadata": {},
   "outputs": [],
   "source": []
  }
 ],
 "metadata": {
  "colab": {
   "collapsed_sections": [
    "gfn1lNQy4pd-",
    "KXHgoxw-5uLs",
    "aZ8HNom491f_",
    "ON1xWKP2Wr9r",
    "KRIUgYHwlpiF",
    "7reC6ErRvo4y",
    "X6SFetf9zUWA",
    "X77OCxZXO2v1",
    "8CsAGkvJ0CYN",
    "gmEtXj3G4225",
    "kPdQTCg_6mTN",
    "j3v0YiC_IsaQ"
   ],
   "provenance": []
  },
  "kernelspec": {
   "display_name": "Python 3 (ipykernel)",
   "language": "python",
   "name": "python3"
  },
  "language_info": {
   "codemirror_mode": {
    "name": "ipython",
    "version": 3
   },
   "file_extension": ".py",
   "mimetype": "text/x-python",
   "name": "python",
   "nbconvert_exporter": "python",
   "pygments_lexer": "ipython3",
   "version": "3.10.4"
  }
 },
 "nbformat": 4,
 "nbformat_minor": 4
}
