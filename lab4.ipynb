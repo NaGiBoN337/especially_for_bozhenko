{
 "cells": [
  {
   "cell_type": "markdown",
   "metadata": {},
   "source": [
    "## Лабоораторная работа №4"
   ]
  },
  {
   "cell_type": "markdown",
   "metadata": {},
   "source": [
    "### 1. Был взят 1  набор данных по своему варианту для проведения анализа согласно цели выполняемой работы."
   ]
  },
  {
   "cell_type": "code",
   "execution_count": 49,
   "metadata": {},
   "outputs": [],
   "source": [
    "import pandas as pd\n",
    "import numpy as np\n",
    "import matplotlib\n",
    "import sklearn\n",
    "from matplotlib import pyplot as plt\n",
    "from sklearn.cluster import KMeans\n",
    "import seaborn as sns\n",
    "data = pd.read_csv('1heart.csv')\n"
   ]
  },
  {
   "cell_type": "markdown",
   "metadata": {},
   "source": [
    "Мною был выбран первый вариант, где датасет содержит информацию о сердечных болезнях. При помощи data.head и data.info выведем инфорамицию о датасете и его содержании, проанализируем, и в случае каких-либо ошибок исправим. "
   ]
  },
  {
   "cell_type": "code",
   "execution_count": 2,
   "metadata": {},
   "outputs": [
    {
     "name": "stdout",
     "output_type": "stream",
     "text": [
      "     Age Sex ChestPainType  RestingBP Cholesterol  FastingBS RestingECG  \\\n",
      "0     40   M           ATA      140.0         289          0     Normal   \n",
      "1     49   F           NAP      160.0         180          0     Normal   \n",
      "2     37   M           ATA      130.0         283          0         ST   \n",
      "3     48   F           ASY      138.0         214          0     Normal   \n",
      "4     54   M           NAP      150.0         195          0     Normal   \n",
      "..   ...  ..           ...        ...         ...        ...        ...   \n",
      "920   38   M           NAP      138.0         175          0     Normal   \n",
      "921   38   M           NAP      138.0         175          0        NaN   \n",
      "922   57   F           ASY      140.0        a241          0     Normal   \n",
      "923   55   F           ATA      132.0         342          0     Normal   \n",
      "924   56  Ma           ATA      130.0         221          0        LVH   \n",
      "\n",
      "     MaxHR ExerciseAngina  Oldpeak ST_Slope  HeartDisease  \n",
      "0    172.0              N      0.0       Up             0  \n",
      "1    156.0              N      1.0     Flat             1  \n",
      "2     98.0              N      0.0       Up             0  \n",
      "3    108.0              Y      1.5     Flat             1  \n",
      "4    122.0              N      0.0       Up             0  \n",
      "..     ...            ...      ...      ...           ...  \n",
      "920  173.0              N      0.0       Up             0  \n",
      "921  173.0              N      0.0       Up             0  \n",
      "922  123.0              Y      0.2     Flat             1  \n",
      "923    NaN              N      1.2       Up             0  \n",
      "924  163.0              N      0.0       UP             0  \n",
      "\n",
      "[925 rows x 12 columns]\n"
     ]
    }
   ],
   "source": [
    "print(data)"
   ]
  },
  {
   "cell_type": "code",
   "execution_count": 3,
   "metadata": {},
   "outputs": [
    {
     "data": {
      "text/html": [
       "<div>\n",
       "<style scoped>\n",
       "    .dataframe tbody tr th:only-of-type {\n",
       "        vertical-align: middle;\n",
       "    }\n",
       "\n",
       "    .dataframe tbody tr th {\n",
       "        vertical-align: top;\n",
       "    }\n",
       "\n",
       "    .dataframe thead th {\n",
       "        text-align: right;\n",
       "    }\n",
       "</style>\n",
       "<table border=\"1\" class=\"dataframe\">\n",
       "  <thead>\n",
       "    <tr style=\"text-align: right;\">\n",
       "      <th></th>\n",
       "      <th>Age</th>\n",
       "      <th>Sex</th>\n",
       "      <th>ChestPainType</th>\n",
       "      <th>RestingBP</th>\n",
       "      <th>Cholesterol</th>\n",
       "      <th>FastingBS</th>\n",
       "      <th>RestingECG</th>\n",
       "      <th>MaxHR</th>\n",
       "      <th>ExerciseAngina</th>\n",
       "      <th>Oldpeak</th>\n",
       "      <th>ST_Slope</th>\n",
       "      <th>HeartDisease</th>\n",
       "    </tr>\n",
       "  </thead>\n",
       "  <tbody>\n",
       "    <tr>\n",
       "      <th>0</th>\n",
       "      <td>40</td>\n",
       "      <td>M</td>\n",
       "      <td>ATA</td>\n",
       "      <td>140.0</td>\n",
       "      <td>289</td>\n",
       "      <td>0</td>\n",
       "      <td>Normal</td>\n",
       "      <td>172.0</td>\n",
       "      <td>N</td>\n",
       "      <td>0.0</td>\n",
       "      <td>Up</td>\n",
       "      <td>0</td>\n",
       "    </tr>\n",
       "    <tr>\n",
       "      <th>1</th>\n",
       "      <td>49</td>\n",
       "      <td>F</td>\n",
       "      <td>NAP</td>\n",
       "      <td>160.0</td>\n",
       "      <td>180</td>\n",
       "      <td>0</td>\n",
       "      <td>Normal</td>\n",
       "      <td>156.0</td>\n",
       "      <td>N</td>\n",
       "      <td>1.0</td>\n",
       "      <td>Flat</td>\n",
       "      <td>1</td>\n",
       "    </tr>\n",
       "    <tr>\n",
       "      <th>2</th>\n",
       "      <td>37</td>\n",
       "      <td>M</td>\n",
       "      <td>ATA</td>\n",
       "      <td>130.0</td>\n",
       "      <td>283</td>\n",
       "      <td>0</td>\n",
       "      <td>ST</td>\n",
       "      <td>98.0</td>\n",
       "      <td>N</td>\n",
       "      <td>0.0</td>\n",
       "      <td>Up</td>\n",
       "      <td>0</td>\n",
       "    </tr>\n",
       "    <tr>\n",
       "      <th>3</th>\n",
       "      <td>48</td>\n",
       "      <td>F</td>\n",
       "      <td>ASY</td>\n",
       "      <td>138.0</td>\n",
       "      <td>214</td>\n",
       "      <td>0</td>\n",
       "      <td>Normal</td>\n",
       "      <td>108.0</td>\n",
       "      <td>Y</td>\n",
       "      <td>1.5</td>\n",
       "      <td>Flat</td>\n",
       "      <td>1</td>\n",
       "    </tr>\n",
       "    <tr>\n",
       "      <th>4</th>\n",
       "      <td>54</td>\n",
       "      <td>M</td>\n",
       "      <td>NAP</td>\n",
       "      <td>150.0</td>\n",
       "      <td>195</td>\n",
       "      <td>0</td>\n",
       "      <td>Normal</td>\n",
       "      <td>122.0</td>\n",
       "      <td>N</td>\n",
       "      <td>0.0</td>\n",
       "      <td>Up</td>\n",
       "      <td>0</td>\n",
       "    </tr>\n",
       "    <tr>\n",
       "      <th>5</th>\n",
       "      <td>39</td>\n",
       "      <td>M</td>\n",
       "      <td>NAP</td>\n",
       "      <td>120.0</td>\n",
       "      <td>339</td>\n",
       "      <td>0</td>\n",
       "      <td>Normal</td>\n",
       "      <td>170.0</td>\n",
       "      <td>N</td>\n",
       "      <td>0.0</td>\n",
       "      <td>Up</td>\n",
       "      <td>0</td>\n",
       "    </tr>\n",
       "    <tr>\n",
       "      <th>6</th>\n",
       "      <td>45</td>\n",
       "      <td>F</td>\n",
       "      <td>ATA</td>\n",
       "      <td>130.0</td>\n",
       "      <td>237</td>\n",
       "      <td>0</td>\n",
       "      <td>Normal</td>\n",
       "      <td>170.0</td>\n",
       "      <td>N</td>\n",
       "      <td>0.0</td>\n",
       "      <td>Up</td>\n",
       "      <td>0</td>\n",
       "    </tr>\n",
       "    <tr>\n",
       "      <th>7</th>\n",
       "      <td>54</td>\n",
       "      <td>M</td>\n",
       "      <td>ATA</td>\n",
       "      <td>110.0</td>\n",
       "      <td>208</td>\n",
       "      <td>0</td>\n",
       "      <td>Normal</td>\n",
       "      <td>142.0</td>\n",
       "      <td>N</td>\n",
       "      <td>0.0</td>\n",
       "      <td>Up</td>\n",
       "      <td>0</td>\n",
       "    </tr>\n",
       "    <tr>\n",
       "      <th>8</th>\n",
       "      <td>37</td>\n",
       "      <td>M</td>\n",
       "      <td>ASY</td>\n",
       "      <td>140.0</td>\n",
       "      <td>207</td>\n",
       "      <td>0</td>\n",
       "      <td>Normal</td>\n",
       "      <td>130.0</td>\n",
       "      <td>Y</td>\n",
       "      <td>1.5</td>\n",
       "      <td>Flat</td>\n",
       "      <td>1</td>\n",
       "    </tr>\n",
       "    <tr>\n",
       "      <th>9</th>\n",
       "      <td>48</td>\n",
       "      <td>F</td>\n",
       "      <td>ATA</td>\n",
       "      <td>120.0</td>\n",
       "      <td>284</td>\n",
       "      <td>0</td>\n",
       "      <td>Normal</td>\n",
       "      <td>120.0</td>\n",
       "      <td>N</td>\n",
       "      <td>0.0</td>\n",
       "      <td>Up</td>\n",
       "      <td>0</td>\n",
       "    </tr>\n",
       "    <tr>\n",
       "      <th>10</th>\n",
       "      <td>37</td>\n",
       "      <td>F</td>\n",
       "      <td>NAP</td>\n",
       "      <td>130.0</td>\n",
       "      <td>211</td>\n",
       "      <td>0</td>\n",
       "      <td>Normal</td>\n",
       "      <td>142.0</td>\n",
       "      <td>N</td>\n",
       "      <td>0.0</td>\n",
       "      <td>Up</td>\n",
       "      <td>0</td>\n",
       "    </tr>\n",
       "    <tr>\n",
       "      <th>11</th>\n",
       "      <td>58</td>\n",
       "      <td>M</td>\n",
       "      <td>ATA</td>\n",
       "      <td>136.0</td>\n",
       "      <td>164</td>\n",
       "      <td>0</td>\n",
       "      <td>ST</td>\n",
       "      <td>99.0</td>\n",
       "      <td>Y</td>\n",
       "      <td>2.0</td>\n",
       "      <td>Flat</td>\n",
       "      <td>1</td>\n",
       "    </tr>\n",
       "    <tr>\n",
       "      <th>12</th>\n",
       "      <td>39</td>\n",
       "      <td>M</td>\n",
       "      <td>ATA</td>\n",
       "      <td>120.0</td>\n",
       "      <td>204</td>\n",
       "      <td>0</td>\n",
       "      <td>Normal</td>\n",
       "      <td>145.0</td>\n",
       "      <td>N</td>\n",
       "      <td>0.0</td>\n",
       "      <td>Up</td>\n",
       "      <td>0</td>\n",
       "    </tr>\n",
       "    <tr>\n",
       "      <th>13</th>\n",
       "      <td>49</td>\n",
       "      <td>M</td>\n",
       "      <td>ASY</td>\n",
       "      <td>140.0</td>\n",
       "      <td>234</td>\n",
       "      <td>0</td>\n",
       "      <td>Normal</td>\n",
       "      <td>140.0</td>\n",
       "      <td>Y</td>\n",
       "      <td>1.0</td>\n",
       "      <td>Flat</td>\n",
       "      <td>1</td>\n",
       "    </tr>\n",
       "    <tr>\n",
       "      <th>14</th>\n",
       "      <td>42</td>\n",
       "      <td>F</td>\n",
       "      <td>NAP</td>\n",
       "      <td>115.0</td>\n",
       "      <td>211</td>\n",
       "      <td>0</td>\n",
       "      <td>ST</td>\n",
       "      <td>137.0</td>\n",
       "      <td>N</td>\n",
       "      <td>0.0</td>\n",
       "      <td>Up</td>\n",
       "      <td>0</td>\n",
       "    </tr>\n",
       "    <tr>\n",
       "      <th>15</th>\n",
       "      <td>54</td>\n",
       "      <td>F</td>\n",
       "      <td>ATA</td>\n",
       "      <td>120.0</td>\n",
       "      <td>273</td>\n",
       "      <td>0</td>\n",
       "      <td>Normal</td>\n",
       "      <td>150.0</td>\n",
       "      <td>N</td>\n",
       "      <td>1.5</td>\n",
       "      <td>Flat</td>\n",
       "      <td>0</td>\n",
       "    </tr>\n",
       "    <tr>\n",
       "      <th>16</th>\n",
       "      <td>38</td>\n",
       "      <td>M</td>\n",
       "      <td>ASY</td>\n",
       "      <td>110.0</td>\n",
       "      <td>196</td>\n",
       "      <td>0</td>\n",
       "      <td>Normal</td>\n",
       "      <td>166.0</td>\n",
       "      <td>N</td>\n",
       "      <td>0.0</td>\n",
       "      <td>Flat</td>\n",
       "      <td>1</td>\n",
       "    </tr>\n",
       "    <tr>\n",
       "      <th>17</th>\n",
       "      <td>43</td>\n",
       "      <td>F</td>\n",
       "      <td>ATA</td>\n",
       "      <td>NaN</td>\n",
       "      <td>NaN</td>\n",
       "      <td>0</td>\n",
       "      <td>Normal</td>\n",
       "      <td>165.0</td>\n",
       "      <td>N</td>\n",
       "      <td>0.0</td>\n",
       "      <td>Up</td>\n",
       "      <td>0</td>\n",
       "    </tr>\n",
       "    <tr>\n",
       "      <th>18</th>\n",
       "      <td>60</td>\n",
       "      <td>M</td>\n",
       "      <td>ASY</td>\n",
       "      <td>100.0</td>\n",
       "      <td>248</td>\n",
       "      <td>0</td>\n",
       "      <td>Normal</td>\n",
       "      <td>125.0</td>\n",
       "      <td>N</td>\n",
       "      <td>1.0</td>\n",
       "      <td>Flat</td>\n",
       "      <td>1</td>\n",
       "    </tr>\n",
       "    <tr>\n",
       "      <th>19</th>\n",
       "      <td>36</td>\n",
       "      <td>M</td>\n",
       "      <td>ATA</td>\n",
       "      <td>120.0</td>\n",
       "      <td>267</td>\n",
       "      <td>0</td>\n",
       "      <td>Normal</td>\n",
       "      <td>160.0</td>\n",
       "      <td>N</td>\n",
       "      <td>3.0</td>\n",
       "      <td>Flat</td>\n",
       "      <td>1</td>\n",
       "    </tr>\n",
       "  </tbody>\n",
       "</table>\n",
       "</div>"
      ],
      "text/plain": [
       "    Age Sex ChestPainType  RestingBP Cholesterol  FastingBS RestingECG  MaxHR  \\\n",
       "0    40   M           ATA      140.0         289          0     Normal  172.0   \n",
       "1    49   F           NAP      160.0         180          0     Normal  156.0   \n",
       "2    37   M           ATA      130.0         283          0         ST   98.0   \n",
       "3    48   F           ASY      138.0         214          0     Normal  108.0   \n",
       "4    54   M           NAP      150.0         195          0     Normal  122.0   \n",
       "5    39   M           NAP      120.0         339          0     Normal  170.0   \n",
       "6    45   F           ATA      130.0         237          0     Normal  170.0   \n",
       "7    54   M           ATA      110.0         208          0     Normal  142.0   \n",
       "8    37   M           ASY      140.0         207          0     Normal  130.0   \n",
       "9    48   F           ATA      120.0         284          0     Normal  120.0   \n",
       "10   37   F           NAP      130.0         211          0     Normal  142.0   \n",
       "11   58   M           ATA      136.0         164          0         ST   99.0   \n",
       "12   39   M           ATA      120.0         204          0     Normal  145.0   \n",
       "13   49   M           ASY      140.0         234          0     Normal  140.0   \n",
       "14   42   F           NAP      115.0         211          0         ST  137.0   \n",
       "15   54   F           ATA      120.0         273          0     Normal  150.0   \n",
       "16   38   M           ASY      110.0         196          0     Normal  166.0   \n",
       "17   43   F           ATA        NaN         NaN          0     Normal  165.0   \n",
       "18   60   M           ASY      100.0         248          0     Normal  125.0   \n",
       "19   36   M           ATA      120.0         267          0     Normal  160.0   \n",
       "\n",
       "   ExerciseAngina  Oldpeak ST_Slope  HeartDisease  \n",
       "0               N      0.0       Up             0  \n",
       "1               N      1.0     Flat             1  \n",
       "2               N      0.0       Up             0  \n",
       "3               Y      1.5     Flat             1  \n",
       "4               N      0.0       Up             0  \n",
       "5               N      0.0       Up             0  \n",
       "6               N      0.0       Up             0  \n",
       "7               N      0.0       Up             0  \n",
       "8               Y      1.5     Flat             1  \n",
       "9               N      0.0       Up             0  \n",
       "10              N      0.0       Up             0  \n",
       "11              Y      2.0     Flat             1  \n",
       "12              N      0.0       Up             0  \n",
       "13              Y      1.0     Flat             1  \n",
       "14              N      0.0       Up             0  \n",
       "15              N      1.5     Flat             0  \n",
       "16              N      0.0     Flat             1  \n",
       "17              N      0.0       Up             0  \n",
       "18              N      1.0     Flat             1  \n",
       "19              N      3.0     Flat             1  "
      ]
     },
     "execution_count": 3,
     "metadata": {},
     "output_type": "execute_result"
    }
   ],
   "source": [
    "data.head(20)"
   ]
  },
  {
   "cell_type": "markdown",
   "metadata": {},
   "source": [
    "1. Возраст\n",
    "2. Пол\n",
    "3. Тип боли в груди (4 значения [TA: типичная стенокардия, ATA: атипичная стенокардия, NAP: неангинальная боль, ASY: бессимптомная])\n",
    "4. Артериальное давление в покое\n",
    "5. Холестерин сыворотки в мг/дл\n",
    "6. Уровень сахара в крови натощак > 120 мг/дл\n",
    "7. ЭКГ в покое: результаты электрокардиограммы в покое норма: нормальная, ST: аномалия ST-T LVN: гипертрофия\n",
    "8. MaxHR: максимальная достигнутая частота сердечных сокращений [Числовое значение от 60 до 202]\n",
    "9. Стенокардия, вызванная физической нагрузкой (да, нет)\n",
    "10. oldpeak = депрессия ST, вызванная физической нагрузкой, по сравнению с состоянием покоя \n",
    "11. Наклон пикового сегмента ST при нагрузке (Вверх: восходящий, Плоский: плоский, Вниз: нисходящий)\n",
    "12. HeartDisease: выходной класс [1: болезнь сердца, 0: нормальный] "
   ]
  },
  {
   "cell_type": "code",
   "execution_count": 4,
   "metadata": {},
   "outputs": [
    {
     "name": "stdout",
     "output_type": "stream",
     "text": [
      "<class 'pandas.core.frame.DataFrame'>\n",
      "RangeIndex: 925 entries, 0 to 924\n",
      "Data columns (total 12 columns):\n",
      " #   Column          Non-Null Count  Dtype  \n",
      "---  ------          --------------  -----  \n",
      " 0   Age             925 non-null    int64  \n",
      " 1   Sex             925 non-null    object \n",
      " 2   ChestPainType   925 non-null    object \n",
      " 3   RestingBP       923 non-null    float64\n",
      " 4   Cholesterol     924 non-null    object \n",
      " 5   FastingBS       925 non-null    int64  \n",
      " 6   RestingECG      924 non-null    object \n",
      " 7   MaxHR           924 non-null    float64\n",
      " 8   ExerciseAngina  925 non-null    object \n",
      " 9   Oldpeak         925 non-null    float64\n",
      " 10  ST_Slope        925 non-null    object \n",
      " 11  HeartDisease    925 non-null    int64  \n",
      "dtypes: float64(3), int64(3), object(6)\n",
      "memory usage: 86.8+ KB\n"
     ]
    }
   ],
   "source": [
    "data.info()"
   ]
  },
  {
   "cell_type": "markdown",
   "metadata": {},
   "source": [
    "Проанализировав типы данных столбцов и названия, мы можем прийти к выводу, что тип столбца Cholesterol можно поменять на int для дальнейшей работы с данными. "
   ]
  },
  {
   "cell_type": "code",
   "execution_count": 5,
   "metadata": {},
   "outputs": [
    {
     "data": {
      "text/plain": [
       "Index(['Age', 'Sex', 'ChestPainType', 'RestingBP', 'Cholesterol', 'FastingBS',\n",
       "       'RestingECG', 'MaxHR', 'ExerciseAngina', 'Oldpeak', 'ST_Slope',\n",
       "       'HeartDisease'],\n",
       "      dtype='object')"
      ]
     },
     "execution_count": 5,
     "metadata": {},
     "output_type": "execute_result"
    }
   ],
   "source": [
    "data.columns"
   ]
  },
  {
   "cell_type": "markdown",
   "metadata": {},
   "source": [
    "### 2. Провести предварительную обработку данных (как в 1 ЛР)."
   ]
  },
  {
   "cell_type": "markdown",
   "metadata": {},
   "source": [
    "Для начала выявим имеет ли датасет NaN значения в ячейках. "
   ]
  },
  {
   "cell_type": "code",
   "execution_count": 6,
   "metadata": {},
   "outputs": [
    {
     "name": "stdout",
     "output_type": "stream",
     "text": [
      "Age               0\n",
      "Sex               0\n",
      "ChestPainType     0\n",
      "RestingBP         2\n",
      "Cholesterol       1\n",
      "FastingBS         0\n",
      "RestingECG        1\n",
      "MaxHR             1\n",
      "ExerciseAngina    0\n",
      "Oldpeak           0\n",
      "ST_Slope          0\n",
      "HeartDisease      0\n",
      "dtype: int64\n"
     ]
    }
   ],
   "source": [
    "print(data.isna().sum())"
   ]
  },
  {
   "cell_type": "markdown",
   "metadata": {},
   "source": [
    "Видим, что в столбцах RestingBP, Cholesterol, RestingECG, MaxHR имеют несколько значенй Nan. Менять пустые значения на нули я считаю нерационально, хоть и значений с нулями в столбцах по сравнению с обим количеством данных мало и вряд ли это повлияет на общую статстику, но все же я предпочту удалить данные строки с пустыми значениями в ячейках. "
   ]
  },
  {
   "cell_type": "code",
   "execution_count": 7,
   "metadata": {},
   "outputs": [],
   "source": [
    "data = data.dropna(subset=['RestingBP','Cholesterol','RestingECG','MaxHR',])"
   ]
  },
  {
   "cell_type": "code",
   "execution_count": 8,
   "metadata": {},
   "outputs": [
    {
     "name": "stdout",
     "output_type": "stream",
     "text": [
      "Age               0\n",
      "Sex               0\n",
      "ChestPainType     0\n",
      "RestingBP         0\n",
      "Cholesterol       0\n",
      "FastingBS         0\n",
      "RestingECG        0\n",
      "MaxHR             0\n",
      "ExerciseAngina    0\n",
      "Oldpeak           0\n",
      "ST_Slope          0\n",
      "HeartDisease      0\n",
      "dtype: int64\n"
     ]
    }
   ],
   "source": [
    "print(data.isna().sum())"
   ]
  },
  {
   "cell_type": "markdown",
   "metadata": {},
   "source": [
    "Наглядно видим, что теперь в датасете осутствуют ячейки с пустыми значениями. Далле сменим тип стоблца Cholesterol на int и выведем datа.info, чтобы убедиться успешном изменении. "
   ]
  },
  {
   "cell_type": "code",
   "execution_count": 50,
   "metadata": {},
   "outputs": [],
   "source": [
    "data.replace(to_replace=\"a241\",value= 241, inplace=True)"
   ]
  },
  {
   "cell_type": "code",
   "execution_count": 10,
   "metadata": {},
   "outputs": [],
   "source": [
    "data['Cholesterol'] = data['Cholesterol'].astype(str).astype(int)"
   ]
  },
  {
   "cell_type": "code",
   "execution_count": 11,
   "metadata": {},
   "outputs": [
    {
     "name": "stdout",
     "output_type": "stream",
     "text": [
      "<class 'pandas.core.frame.DataFrame'>\n",
      "Int64Index: 921 entries, 0 to 924\n",
      "Data columns (total 12 columns):\n",
      " #   Column          Non-Null Count  Dtype  \n",
      "---  ------          --------------  -----  \n",
      " 0   Age             921 non-null    int64  \n",
      " 1   Sex             921 non-null    object \n",
      " 2   ChestPainType   921 non-null    object \n",
      " 3   RestingBP       921 non-null    float64\n",
      " 4   Cholesterol     921 non-null    int32  \n",
      " 5   FastingBS       921 non-null    int64  \n",
      " 6   RestingECG      921 non-null    object \n",
      " 7   MaxHR           921 non-null    float64\n",
      " 8   ExerciseAngina  921 non-null    object \n",
      " 9   Oldpeak         921 non-null    float64\n",
      " 10  ST_Slope        921 non-null    object \n",
      " 11  HeartDisease    921 non-null    int64  \n",
      "dtypes: float64(3), int32(1), int64(3), object(5)\n",
      "memory usage: 89.9+ KB\n"
     ]
    }
   ],
   "source": [
    "data.info()"
   ]
  },
  {
   "cell_type": "markdown",
   "metadata": {},
   "source": [
    "Тип успешно был изменен и можно дальше обработать данные для правильного анализа данных датасета"
   ]
  },
  {
   "cell_type": "code",
   "execution_count": 12,
   "metadata": {},
   "outputs": [
    {
     "name": "stdout",
     "output_type": "stream",
     "text": [
      "     Age Sex ChestPainType  RestingBP  Cholesterol  FastingBS RestingECG  \\\n",
      "0     40   M           ATA      140.0          289          0     Normal   \n",
      "1     49   F           NAP      160.0          180          0     Normal   \n",
      "2     37   M           ATA      130.0          283          0         ST   \n",
      "3     48   F           ASY      138.0          214          0     Normal   \n",
      "4     54   M           NAP      150.0          195          0     Normal   \n",
      "..   ...  ..           ...        ...          ...        ...        ...   \n",
      "918   38   M           NAP      138.0          175          0     Normal   \n",
      "919   38   M           NAP      138.0          175          0     Normal   \n",
      "920   38   M           NAP      138.0          175          0     Normal   \n",
      "922   57   F           ASY      140.0          241          0     Normal   \n",
      "924   56  Ma           ATA      130.0          221          0        LVH   \n",
      "\n",
      "     MaxHR ExerciseAngina  Oldpeak ST_Slope  HeartDisease  \n",
      "0    172.0              N      0.0       Up             0  \n",
      "1    156.0              N      1.0     Flat             1  \n",
      "2     98.0              N      0.0       Up             0  \n",
      "3    108.0              Y      1.5     Flat             1  \n",
      "4    122.0              N      0.0       Up             0  \n",
      "..     ...            ...      ...      ...           ...  \n",
      "918  173.0              N      0.0       Up             0  \n",
      "919  173.0              N      0.0       Up             0  \n",
      "920  173.0              N      0.0       Up             0  \n",
      "922  123.0              Y      0.2     Flat             1  \n",
      "924  163.0              N      0.0       UP             0  \n",
      "\n",
      "[921 rows x 12 columns]\n"
     ]
    }
   ],
   "source": [
    "print(data)"
   ]
  },
  {
   "cell_type": "markdown",
   "metadata": {},
   "source": [
    "Далее проверим датасет на наличие дубликатов."
   ]
  },
  {
   "cell_type": "code",
   "execution_count": 13,
   "metadata": {},
   "outputs": [
    {
     "name": "stdout",
     "output_type": "stream",
     "text": [
      "4\n"
     ]
    }
   ],
   "source": [
    "print(data.duplicated().sum())"
   ]
  },
  {
   "cell_type": "markdown",
   "metadata": {},
   "source": [
    "В датасете нашлось 4 дубликата, которые следует удалить "
   ]
  },
  {
   "cell_type": "code",
   "execution_count": 14,
   "metadata": {},
   "outputs": [
    {
     "name": "stdout",
     "output_type": "stream",
     "text": [
      "0\n"
     ]
    }
   ],
   "source": [
    "data = data.drop_duplicates()\n",
    "print(data.duplicated().sum())"
   ]
  },
  {
   "cell_type": "markdown",
   "metadata": {},
   "source": [
    "Удаление дублкатов произошло успешно и наглядно видим, что количество дубликатов равно нулю."
   ]
  },
  {
   "cell_type": "markdown",
   "metadata": {},
   "source": [
    "________________________________________________________________________________________________________________________________________________"
   ]
  },
  {
   "cell_type": "markdown",
   "metadata": {},
   "source": [
    "Проверим датасет на наличие неявных дубликатов."
   ]
  },
  {
   "cell_type": "code",
   "execution_count": 15,
   "metadata": {},
   "outputs": [
    {
     "name": "stdout",
     "output_type": "stream",
     "text": [
      "['M' 'F' 'Ma']\n"
     ]
    }
   ],
   "source": [
    "print(data['Sex'].unique())"
   ]
  },
  {
   "cell_type": "code",
   "execution_count": 16,
   "metadata": {},
   "outputs": [
    {
     "name": "stdout",
     "output_type": "stream",
     "text": [
      "Sex\n",
      "F     192\n",
      "M     724\n",
      "Ma      1\n",
      "Name: Sex, dtype: int64\n"
     ]
    }
   ],
   "source": [
    "tableex = data.groupby([\"Sex\"])[\"Sex\"].count()\n",
    "print(tableex)"
   ]
  },
  {
   "cell_type": "markdown",
   "metadata": {},
   "source": [
    "Долго сомневался нужно ли гендер Ма перенести в М, но в итоге решил именно так поступить."
   ]
  },
  {
   "cell_type": "code",
   "execution_count": 17,
   "metadata": {},
   "outputs": [],
   "source": [
    "data['Sex'] = data['Sex'].replace('Ma', 'M')"
   ]
  },
  {
   "cell_type": "code",
   "execution_count": 18,
   "metadata": {},
   "outputs": [
    {
     "name": "stdout",
     "output_type": "stream",
     "text": [
      "Sex\n",
      "F    192\n",
      "M    725\n",
      "Name: Sex, dtype: int64\n"
     ]
    }
   ],
   "source": [
    "tableex = data.groupby([\"Sex\"])[\"Sex\"].count()\n",
    "print(tableex)"
   ]
  },
  {
   "cell_type": "code",
   "execution_count": 19,
   "metadata": {},
   "outputs": [
    {
     "name": "stdout",
     "output_type": "stream",
     "text": [
      "['ATA' 'NAP' 'ASY' 'TA']\n"
     ]
    }
   ],
   "source": [
    "print(data['ChestPainType'].unique())"
   ]
  },
  {
   "cell_type": "code",
   "execution_count": 20,
   "metadata": {},
   "outputs": [
    {
     "name": "stdout",
     "output_type": "stream",
     "text": [
      "['Normal' 'ST' 'LVH']\n"
     ]
    }
   ],
   "source": [
    "print(data['RestingECG'].unique())"
   ]
  },
  {
   "cell_type": "code",
   "execution_count": 21,
   "metadata": {},
   "outputs": [
    {
     "name": "stdout",
     "output_type": "stream",
     "text": [
      "RestingECG\n",
      "LVH       189\n",
      "Normal    550\n",
      "ST        178\n",
      "Name: RestingECG, dtype: int64\n"
     ]
    }
   ],
   "source": [
    "tableex2 = data.groupby([\"RestingECG\"])[\"RestingECG\"].count()\n",
    "print(tableex2)"
   ]
  },
  {
   "cell_type": "code",
   "execution_count": 22,
   "metadata": {},
   "outputs": [
    {
     "name": "stdout",
     "output_type": "stream",
     "text": [
      "['N' 'Y']\n"
     ]
    }
   ],
   "source": [
    "print(data['ExerciseAngina'].unique())"
   ]
  },
  {
   "cell_type": "code",
   "execution_count": 23,
   "metadata": {},
   "outputs": [
    {
     "name": "stdout",
     "output_type": "stream",
     "text": [
      "['Up' 'Flat' 'Down' 'UP']\n"
     ]
    }
   ],
   "source": [
    "print(data['ST_Slope'].unique())"
   ]
  },
  {
   "cell_type": "code",
   "execution_count": 24,
   "metadata": {},
   "outputs": [
    {
     "name": "stdout",
     "output_type": "stream",
     "text": [
      "ST_Slope\n",
      "Down     63\n",
      "Flat    460\n",
      "UP        1\n",
      "Up      393\n",
      "Name: ST_Slope, dtype: int64\n"
     ]
    }
   ],
   "source": [
    "tableex3 = data.groupby([\"ST_Slope\"])[\"ST_Slope\"].count()\n",
    "print(tableex3)"
   ]
  },
  {
   "cell_type": "markdown",
   "metadata": {},
   "source": [
    "Тут мы видим, что есть одно значение в ячейке, которое зааписано капсом и это нужно исправить."
   ]
  },
  {
   "cell_type": "code",
   "execution_count": 25,
   "metadata": {},
   "outputs": [],
   "source": [
    "data['ST_Slope'] = data['ST_Slope'].replace('UP', 'Up')"
   ]
  },
  {
   "cell_type": "code",
   "execution_count": 26,
   "metadata": {},
   "outputs": [
    {
     "name": "stdout",
     "output_type": "stream",
     "text": [
      "ST_Slope\n",
      "Down     63\n",
      "Flat    460\n",
      "Up      394\n",
      "Name: ST_Slope, dtype: int64\n"
     ]
    }
   ],
   "source": [
    "tableex3 = data.groupby([\"ST_Slope\"])[\"ST_Slope\"].count()\n",
    "print(tableex3)"
   ]
  },
  {
   "cell_type": "markdown",
   "metadata": {},
   "source": [
    "Наглядно видноо, что замена значения произоша успешно и неявный дубликат устранен."
   ]
  },
  {
   "cell_type": "code",
   "execution_count": 27,
   "metadata": {},
   "outputs": [
    {
     "name": "stdout",
     "output_type": "stream",
     "text": [
      "[0 1]\n"
     ]
    }
   ],
   "source": [
    "print(data['HeartDisease'].unique())"
   ]
  },
  {
   "cell_type": "markdown",
   "metadata": {},
   "source": [
    "Больше неявных дубликатов в датасете не содержится и можно сделать вывод, что датасет готов к дальнейшей работе. "
   ]
  },
  {
   "cell_type": "code",
   "execution_count": 28,
   "metadata": {},
   "outputs": [
    {
     "name": "stdout",
     "output_type": "stream",
     "text": [
      "<class 'pandas.core.frame.DataFrame'>\n",
      "Int64Index: 917 entries, 0 to 924\n",
      "Data columns (total 12 columns):\n",
      " #   Column          Non-Null Count  Dtype  \n",
      "---  ------          --------------  -----  \n",
      " 0   Age             917 non-null    int64  \n",
      " 1   Sex             917 non-null    object \n",
      " 2   ChestPainType   917 non-null    object \n",
      " 3   RestingBP       917 non-null    float64\n",
      " 4   Cholesterol     917 non-null    int32  \n",
      " 5   FastingBS       917 non-null    int64  \n",
      " 6   RestingECG      917 non-null    object \n",
      " 7   MaxHR           917 non-null    float64\n",
      " 8   ExerciseAngina  917 non-null    object \n",
      " 9   Oldpeak         917 non-null    float64\n",
      " 10  ST_Slope        917 non-null    object \n",
      " 11  HeartDisease    917 non-null    int64  \n",
      "dtypes: float64(3), int32(1), int64(3), object(5)\n",
      "memory usage: 89.6+ KB\n"
     ]
    }
   ],
   "source": [
    "data.info()"
   ]
  },
  {
   "cell_type": "markdown",
   "metadata": {},
   "source": []
  },
  {
   "cell_type": "code",
   "execution_count": 29,
   "metadata": {},
   "outputs": [
    {
     "data": {
      "text/html": [
       "<div>\n",
       "<style scoped>\n",
       "    .dataframe tbody tr th:only-of-type {\n",
       "        vertical-align: middle;\n",
       "    }\n",
       "\n",
       "    .dataframe tbody tr th {\n",
       "        vertical-align: top;\n",
       "    }\n",
       "\n",
       "    .dataframe thead th {\n",
       "        text-align: right;\n",
       "    }\n",
       "</style>\n",
       "<table border=\"1\" class=\"dataframe\">\n",
       "  <thead>\n",
       "    <tr style=\"text-align: right;\">\n",
       "      <th></th>\n",
       "      <th>Age</th>\n",
       "      <th>RestingBP</th>\n",
       "      <th>Cholesterol</th>\n",
       "      <th>FastingBS</th>\n",
       "      <th>MaxHR</th>\n",
       "      <th>Oldpeak</th>\n",
       "      <th>HeartDisease</th>\n",
       "    </tr>\n",
       "  </thead>\n",
       "  <tbody>\n",
       "    <tr>\n",
       "      <th>0</th>\n",
       "      <td>40</td>\n",
       "      <td>140.0</td>\n",
       "      <td>289</td>\n",
       "      <td>0</td>\n",
       "      <td>172.0</td>\n",
       "      <td>0.0</td>\n",
       "      <td>0</td>\n",
       "    </tr>\n",
       "    <tr>\n",
       "      <th>1</th>\n",
       "      <td>49</td>\n",
       "      <td>160.0</td>\n",
       "      <td>180</td>\n",
       "      <td>0</td>\n",
       "      <td>156.0</td>\n",
       "      <td>1.0</td>\n",
       "      <td>1</td>\n",
       "    </tr>\n",
       "    <tr>\n",
       "      <th>2</th>\n",
       "      <td>37</td>\n",
       "      <td>130.0</td>\n",
       "      <td>283</td>\n",
       "      <td>0</td>\n",
       "      <td>98.0</td>\n",
       "      <td>0.0</td>\n",
       "      <td>0</td>\n",
       "    </tr>\n",
       "    <tr>\n",
       "      <th>3</th>\n",
       "      <td>48</td>\n",
       "      <td>138.0</td>\n",
       "      <td>214</td>\n",
       "      <td>0</td>\n",
       "      <td>108.0</td>\n",
       "      <td>1.5</td>\n",
       "      <td>1</td>\n",
       "    </tr>\n",
       "    <tr>\n",
       "      <th>4</th>\n",
       "      <td>54</td>\n",
       "      <td>150.0</td>\n",
       "      <td>195</td>\n",
       "      <td>0</td>\n",
       "      <td>122.0</td>\n",
       "      <td>0.0</td>\n",
       "      <td>0</td>\n",
       "    </tr>\n",
       "    <tr>\n",
       "      <th>5</th>\n",
       "      <td>39</td>\n",
       "      <td>120.0</td>\n",
       "      <td>339</td>\n",
       "      <td>0</td>\n",
       "      <td>170.0</td>\n",
       "      <td>0.0</td>\n",
       "      <td>0</td>\n",
       "    </tr>\n",
       "    <tr>\n",
       "      <th>6</th>\n",
       "      <td>45</td>\n",
       "      <td>130.0</td>\n",
       "      <td>237</td>\n",
       "      <td>0</td>\n",
       "      <td>170.0</td>\n",
       "      <td>0.0</td>\n",
       "      <td>0</td>\n",
       "    </tr>\n",
       "    <tr>\n",
       "      <th>7</th>\n",
       "      <td>54</td>\n",
       "      <td>110.0</td>\n",
       "      <td>208</td>\n",
       "      <td>0</td>\n",
       "      <td>142.0</td>\n",
       "      <td>0.0</td>\n",
       "      <td>0</td>\n",
       "    </tr>\n",
       "    <tr>\n",
       "      <th>8</th>\n",
       "      <td>37</td>\n",
       "      <td>140.0</td>\n",
       "      <td>207</td>\n",
       "      <td>0</td>\n",
       "      <td>130.0</td>\n",
       "      <td>1.5</td>\n",
       "      <td>1</td>\n",
       "    </tr>\n",
       "    <tr>\n",
       "      <th>9</th>\n",
       "      <td>48</td>\n",
       "      <td>120.0</td>\n",
       "      <td>284</td>\n",
       "      <td>0</td>\n",
       "      <td>120.0</td>\n",
       "      <td>0.0</td>\n",
       "      <td>0</td>\n",
       "    </tr>\n",
       "  </tbody>\n",
       "</table>\n",
       "</div>"
      ],
      "text/plain": [
       "   Age  RestingBP  Cholesterol  FastingBS  MaxHR  Oldpeak  HeartDisease\n",
       "0   40      140.0          289          0  172.0      0.0             0\n",
       "1   49      160.0          180          0  156.0      1.0             1\n",
       "2   37      130.0          283          0   98.0      0.0             0\n",
       "3   48      138.0          214          0  108.0      1.5             1\n",
       "4   54      150.0          195          0  122.0      0.0             0\n",
       "5   39      120.0          339          0  170.0      0.0             0\n",
       "6   45      130.0          237          0  170.0      0.0             0\n",
       "7   54      110.0          208          0  142.0      0.0             0\n",
       "8   37      140.0          207          0  130.0      1.5             1\n",
       "9   48      120.0          284          0  120.0      0.0             0"
      ]
     },
     "execution_count": 29,
     "metadata": {},
     "output_type": "execute_result"
    }
   ],
   "source": [
    "# Команда, позволяющая удалить столбца. которые не содеражат количественных признаков, \n",
    "# а так же уберем целевой столбец \n",
    "clust = data.drop(data.columns[[1,2,6,8,10]], axis=1)\n",
    "#Выведем часть данных\n",
    "clust.head(10)"
   ]
  },
  {
   "cell_type": "markdown",
   "metadata": {},
   "source": [
    "## Разделение датасета на тренировочный и тестовый"
   ]
  },
  {
   "cell_type": "code",
   "execution_count": 30,
   "metadata": {},
   "outputs": [],
   "source": [
    "from sklearn.model_selection import train_test_split\n",
    "x_train, x_test, y_train, y_test = train_test_split(clust,clust['HeartDisease'], train_size=0.75)\n",
    "x_train = x_train.drop(['HeartDisease'], axis=1)\n",
    "x_test = x_test.drop(['HeartDisease'], axis=1)"
   ]
  },
  {
   "cell_type": "markdown",
   "metadata": {},
   "source": [
    "## Разработка предсказательной модели качественного отклика методами:\n",
    "- метод k- ближайших соседей\n",
    "- логистическая регрессия\n",
    "- случайный лес.\n",
    "## Метод k-ближайших соседей\n",
    "Обучение модели K-ближайших соседей \n",
    "\n",
    "Начнем с импорта KNeighborsClassifier из scikit-learn:"
   ]
  },
  {
   "cell_type": "code",
   "execution_count": 31,
   "metadata": {},
   "outputs": [],
   "source": [
    "from sklearn.neighbors import KNeighborsClassifier"
   ]
  },
  {
   "cell_type": "code",
   "execution_count": 32,
   "metadata": {},
   "outputs": [],
   "source": [
    "model_k = KNeighborsClassifier()"
   ]
  },
  {
   "cell_type": "code",
   "execution_count": 33,
   "metadata": {},
   "outputs": [
    {
     "data": {
      "text/html": [
       "<style>#sk-container-id-1 {color: black;background-color: white;}#sk-container-id-1 pre{padding: 0;}#sk-container-id-1 div.sk-toggleable {background-color: white;}#sk-container-id-1 label.sk-toggleable__label {cursor: pointer;display: block;width: 100%;margin-bottom: 0;padding: 0.3em;box-sizing: border-box;text-align: center;}#sk-container-id-1 label.sk-toggleable__label-arrow:before {content: \"▸\";float: left;margin-right: 0.25em;color: #696969;}#sk-container-id-1 label.sk-toggleable__label-arrow:hover:before {color: black;}#sk-container-id-1 div.sk-estimator:hover label.sk-toggleable__label-arrow:before {color: black;}#sk-container-id-1 div.sk-toggleable__content {max-height: 0;max-width: 0;overflow: hidden;text-align: left;background-color: #f0f8ff;}#sk-container-id-1 div.sk-toggleable__content pre {margin: 0.2em;color: black;border-radius: 0.25em;background-color: #f0f8ff;}#sk-container-id-1 input.sk-toggleable__control:checked~div.sk-toggleable__content {max-height: 200px;max-width: 100%;overflow: auto;}#sk-container-id-1 input.sk-toggleable__control:checked~label.sk-toggleable__label-arrow:before {content: \"▾\";}#sk-container-id-1 div.sk-estimator input.sk-toggleable__control:checked~label.sk-toggleable__label {background-color: #d4ebff;}#sk-container-id-1 div.sk-label input.sk-toggleable__control:checked~label.sk-toggleable__label {background-color: #d4ebff;}#sk-container-id-1 input.sk-hidden--visually {border: 0;clip: rect(1px 1px 1px 1px);clip: rect(1px, 1px, 1px, 1px);height: 1px;margin: -1px;overflow: hidden;padding: 0;position: absolute;width: 1px;}#sk-container-id-1 div.sk-estimator {font-family: monospace;background-color: #f0f8ff;border: 1px dotted black;border-radius: 0.25em;box-sizing: border-box;margin-bottom: 0.5em;}#sk-container-id-1 div.sk-estimator:hover {background-color: #d4ebff;}#sk-container-id-1 div.sk-parallel-item::after {content: \"\";width: 100%;border-bottom: 1px solid gray;flex-grow: 1;}#sk-container-id-1 div.sk-label:hover label.sk-toggleable__label {background-color: #d4ebff;}#sk-container-id-1 div.sk-serial::before {content: \"\";position: absolute;border-left: 1px solid gray;box-sizing: border-box;top: 0;bottom: 0;left: 50%;z-index: 0;}#sk-container-id-1 div.sk-serial {display: flex;flex-direction: column;align-items: center;background-color: white;padding-right: 0.2em;padding-left: 0.2em;position: relative;}#sk-container-id-1 div.sk-item {position: relative;z-index: 1;}#sk-container-id-1 div.sk-parallel {display: flex;align-items: stretch;justify-content: center;background-color: white;position: relative;}#sk-container-id-1 div.sk-item::before, #sk-container-id-1 div.sk-parallel-item::before {content: \"\";position: absolute;border-left: 1px solid gray;box-sizing: border-box;top: 0;bottom: 0;left: 50%;z-index: -1;}#sk-container-id-1 div.sk-parallel-item {display: flex;flex-direction: column;z-index: 1;position: relative;background-color: white;}#sk-container-id-1 div.sk-parallel-item:first-child::after {align-self: flex-end;width: 50%;}#sk-container-id-1 div.sk-parallel-item:last-child::after {align-self: flex-start;width: 50%;}#sk-container-id-1 div.sk-parallel-item:only-child::after {width: 0;}#sk-container-id-1 div.sk-dashed-wrapped {border: 1px dashed gray;margin: 0 0.4em 0.5em 0.4em;box-sizing: border-box;padding-bottom: 0.4em;background-color: white;}#sk-container-id-1 div.sk-label label {font-family: monospace;font-weight: bold;display: inline-block;line-height: 1.2em;}#sk-container-id-1 div.sk-label-container {text-align: center;}#sk-container-id-1 div.sk-container {/* jupyter's `normalize.less` sets `[hidden] { display: none; }` but bootstrap.min.css set `[hidden] { display: none !important; }` so we also need the `!important` here to be able to override the default hidden behavior on the sphinx rendered scikit-learn.org. See: https://github.com/scikit-learn/scikit-learn/issues/21755 */display: inline-block !important;position: relative;}#sk-container-id-1 div.sk-text-repr-fallback {display: none;}</style><div id=\"sk-container-id-1\" class=\"sk-top-container\"><div class=\"sk-text-repr-fallback\"><pre>KNeighborsClassifier()</pre><b>In a Jupyter environment, please rerun this cell to show the HTML representation or trust the notebook. <br />On GitHub, the HTML representation is unable to render, please try loading this page with nbviewer.org.</b></div><div class=\"sk-container\" hidden><div class=\"sk-item\"><div class=\"sk-estimator sk-toggleable\"><input class=\"sk-toggleable__control sk-hidden--visually\" id=\"sk-estimator-id-1\" type=\"checkbox\" checked><label for=\"sk-estimator-id-1\" class=\"sk-toggleable__label sk-toggleable__label-arrow\">KNeighborsClassifier</label><div class=\"sk-toggleable__content\"><pre>KNeighborsClassifier()</pre></div></div></div></div></div>"
      ],
      "text/plain": [
       "KNeighborsClassifier()"
      ]
     },
     "execution_count": 33,
     "metadata": {},
     "output_type": "execute_result"
    }
   ],
   "source": [
    "model_k.fit(x_train, y_train)"
   ]
  },
  {
   "cell_type": "code",
   "execution_count": 34,
   "metadata": {},
   "outputs": [],
   "source": [
    "k_pred = model_k.predict(x_test)"
   ]
  },
  {
   "cell_type": "markdown",
   "metadata": {},
   "source": [
    "Далее оценим качество моделей спомощью метрик \"Accuracy\", \"Precision\", \"Recall\", \"Balanced accuracy\", 'F1 score'.\n",
    "- Accuracy - это доля правильных ответов.\n",
    "- Precision - доля правильных ответов только среди целевого класса.\n",
    "- Recall - сколько реальных объектов \"1\" класса вы смогли обнаружить с помощью модели.\n",
    "- Balanced accuracy - среднее чувствительности (Sensitivity) и специфичности (Specificity)(процент правильно классифицируемых объектов одного из класса)\n",
    "- f1 score - метрика, учитывающая баланс между метриками. F-мера является мерой точности теста."
   ]
  },
  {
   "cell_type": "code",
   "execution_count": 35,
   "metadata": {},
   "outputs": [],
   "source": [
    "from sklearn.metrics import accuracy_score\n",
    "from sklearn.metrics import precision_score\n",
    "from sklearn.metrics import recall_score\n",
    "from sklearn.metrics import balanced_accuracy_score\n",
    "from sklearn.metrics import f1_score"
   ]
  },
  {
   "cell_type": "code",
   "execution_count": 36,
   "metadata": {},
   "outputs": [
    {
     "name": "stdout",
     "output_type": "stream",
     "text": [
      "Accuracy=  0.687\n",
      "Precision=   0.667\n",
      "Recall=  0.769\n",
      "Balanced_accuracy=  0.686\n",
      "f1=  0.714\n"
     ]
    }
   ],
   "source": [
    "accuracy = round(accuracy_score(y_test, k_pred),3)\n",
    "print('Accuracy= ', accuracy)\n",
    "precision = round(precision_score(y_test, k_pred),3)\n",
    "print('Precision=  ', precision)\n",
    "recall = round(recall_score(y_test, k_pred),3)\n",
    "print('Recall= ', recall)\n",
    "bal_acc = round(balanced_accuracy_score(y_test, k_pred),3)\n",
    "print('Balanced_accuracy= ', bal_acc)\n",
    "f1 = round(f1_score(y_test, k_pred),3)\n",
    "print('f1= ', f1)"
   ]
  },
  {
   "cell_type": "code",
   "execution_count": 37,
   "metadata": {},
   "outputs": [
    {
     "name": "stdout",
     "output_type": "stream",
     "text": [
      "[[68 45]\n",
      " [27 90]]\n"
     ]
    }
   ],
   "source": [
    "from sklearn.metrics import confusion_matrix\n",
    "print(confusion_matrix(y_test, k_pred))"
   ]
  },
  {
   "cell_type": "markdown",
   "metadata": {},
   "source": [
    "На основе полученных данных можно сделать вывод, что модель часто ошибалась."
   ]
  },
  {
   "cell_type": "markdown",
   "metadata": {},
   "source": [
    "## Логистическая регрессия\n",
    "Начнем с импорта LogisticRegression из scikit-learn. а затем создадим экземпляр класса LogisticRegression и назначим его переменной logmodel."
   ]
  },
  {
   "cell_type": "code",
   "execution_count": 38,
   "metadata": {},
   "outputs": [],
   "source": [
    "from sklearn.linear_model import LogisticRegression\n",
    "# обучаем модель\n",
    "logmodel = LogisticRegression()\n",
    "logmodel.fit(x_train, y_train)\n",
    "# получаем предказания\n",
    "log_predict = logmodel.predict(x_test)"
   ]
  },
  {
   "cell_type": "markdown",
   "metadata": {},
   "source": [
    "Далее также оценим качество обученной модели с помощью метрик.\n"
   ]
  },
  {
   "cell_type": "code",
   "execution_count": 39,
   "metadata": {},
   "outputs": [
    {
     "name": "stdout",
     "output_type": "stream",
     "text": [
      "Accuracy=  0.687\n",
      "Precision=   0.645\n",
      "Recall=  0.778\n",
      "Balanced_accuracy=  0.668\n",
      "f1=  0.705\n"
     ]
    }
   ],
   "source": [
    "acc = round(accuracy_score(y_test, log_predict), 3)\n",
    "print('Accuracy= ', accuracy)\n",
    "precision = round(precision_score(y_test, log_predict), 3)\n",
    "print('Precision=  ', precision)\n",
    "recall = round(recall_score(y_test, log_predict), 3)\n",
    "print('Recall= ', recall)\n",
    "bal_acc = round(balanced_accuracy_score(y_test, log_predict), 3)\n",
    "print('Balanced_accuracy= ', bal_acc)\n",
    "f1 = round(f1_score(y_test, log_predict), 3)\n",
    "print('f1= ', f1)"
   ]
  },
  {
   "cell_type": "code",
   "execution_count": 40,
   "metadata": {},
   "outputs": [
    {
     "name": "stdout",
     "output_type": "stream",
     "text": [
      "[[63 50]\n",
      " [26 91]]\n"
     ]
    }
   ],
   "source": [
    "print(confusion_matrix(y_test, log_predict))"
   ]
  },
  {
   "cell_type": "markdown",
   "metadata": {},
   "source": [
    "На основе полученных данных можно сделать вывод, что результаты все еще не очень хорошие и, сравнивая с предыдущей моделью, показатели лишь немного улучшились. Истинно положительные результаты определяются лучше, а отрицательно положительные уменьшились, что говрит о большей точности."
   ]
  },
  {
   "cell_type": "markdown",
   "metadata": {},
   "source": [
    "## Случайный лес"
   ]
  },
  {
   "cell_type": "code",
   "execution_count": 41,
   "metadata": {},
   "outputs": [],
   "source": [
    "from sklearn.ensemble import RandomForestClassifier\n",
    "\n",
    "fmodel = RandomForestClassifier()\n",
    "fmodel.fit(x_train, y_train)\n",
    "f_predict = fmodel.predict(x_test)"
   ]
  },
  {
   "cell_type": "code",
   "execution_count": 42,
   "metadata": {},
   "outputs": [
    {
     "name": "stdout",
     "output_type": "stream",
     "text": [
      "Accuracy=  0.752\n",
      "Precision=   0.731\n",
      "Recall=  0.812\n",
      "Balanced accuracy=  0.751\n",
      "f1=  0.769\n"
     ]
    }
   ],
   "source": [
    "acc = round(accuracy_score(y_test, f_predict), 3)\n",
    "print('Accuracy= ', acc)\n",
    "precision = round(precision_score(y_test, f_predict), 3)\n",
    "print('Precision=  ', precision)\n",
    "recall = round(recall_score(y_test, f_predict), 3)\n",
    "print('Recall= ', recall)\n",
    "bal_acc = round(balanced_accuracy_score(y_test, f_predict), 3)\n",
    "print('Balanced accuracy= ', bal_acc)\n",
    "f1 = round(f1_score(y_test, f_predict), 3)\n",
    "print('f1= ', f1)"
   ]
  },
  {
   "cell_type": "code",
   "execution_count": 43,
   "metadata": {},
   "outputs": [
    {
     "name": "stdout",
     "output_type": "stream",
     "text": [
      "[[78 35]\n",
      " [22 95]]\n"
     ]
    }
   ],
   "source": [
    "print(confusion_matrix(y_test, f_predict))"
   ]
  },
  {
   "cell_type": "markdown",
   "metadata": {},
   "source": [
    "Результаты матрицы и метрик показывают нам схожие с предыдущей моделью результаты, но определение истинно положительных значений немного лучше. \n",
    "\n",
    "На основе плученных данных всех трех моделей можнно сделать вывод, что наибольшая точность показателей у модели случайный лес."
   ]
  },
  {
   "cell_type": "markdown",
   "metadata": {},
   "source": [
    "## ROC-кривая "
   ]
  },
  {
   "cell_type": "code",
   "execution_count": 48,
   "metadata": {},
   "outputs": [
    {
     "name": "stdout",
     "output_type": "stream",
     "text": [
      "KNeighborsClassifier: ROC AUC=0.741\n",
      "LogisticRegression: ROC AUC=0.801\n",
      "RandomForestClassifier: ROC AUC=0.810\n"
     ]
    },
    {
     "data": {
      "image/png": "[encoded data removed]",
      "text/plain": [
       "<Figure size 640x480 with 1 Axes>"
      ]
     },
     "metadata": {},
     "output_type": "display_data"
    }
   ],
   "source": [
    "from sklearn.metrics import roc_curve, auc\n",
    "from sklearn.metrics import roc_auc_score\n",
    "from matplotlib import pyplot as plt\n",
    "\n",
    "#k-ближайших соседей\n",
    "\n",
    "lr_probs_k = model_k.predict_proba(x_test) # получаем предказания\n",
    "lr_probs_k = lr_probs_k[:, 1] # сохраняем вероятности только для положительного исхода\n",
    "lr_auc_k = roc_auc_score(y_test, lr_probs_k) # рассчитываем ROC AUC\n",
    "print('KNeighborsClassifier: ROC AUC=%.3f' % (lr_auc_k))\n",
    "fpr, tpr, treshold = roc_curve(y_test, lr_probs_k) # рассчитываем roc-кривую\n",
    "roc_auc = auc(fpr, tpr)\n",
    "plt.plot(fpr, tpr, color='darkorange',\n",
    "         label='ROC кривая k-ближайших соседей (area = %0.2f)' % roc_auc)\n",
    "\n",
    "#логическая регрессия\n",
    "\n",
    "lr_probs_log = logmodel.predict_proba(x_test) # получаем предказания\n",
    "lr_probs_log = lr_probs_log[:, 1] # сохраняем вероятности только для положительного исхода\n",
    "lr_auc_log = roc_auc_score(y_test, lr_probs_log) # рассчитываем ROC AUC\n",
    "print('LogisticRegression: ROC AUC=%.3f' % (lr_auc_log))\n",
    "fpr, tpr, treshold = roc_curve(y_test, lr_probs_log) # рассчитываем roc-кривую\n",
    "roc_auc = auc(fpr, tpr)\n",
    "plt.plot(fpr, tpr, color='red',\n",
    "         label='ROC кривая логической регрессии (area = %0.2f)' % roc_auc) # строим график\n",
    "\n",
    "\n",
    "# Случайный лес\n",
    "\n",
    "\n",
    "lr_probs_f = fmodel.predict_proba(x_test) # получаем предказания\n",
    "lr_probs_f = lr_probs_f[:, 1] # сохраняем вероятности только для положительного исхода\n",
    "lr_auc_f = roc_auc_score(y_test, lr_probs_f) # рассчитываем ROC AUC\n",
    "print('RandomForestClassifier: ROC AUC=%.3f' % (lr_auc_f))\n",
    "fpr, tpr, treshold = roc_curve(y_test, lr_probs_f) # рассчитываем roc-кривую\n",
    "roc_auc = auc(fpr, tpr)\n",
    "plt.plot(fpr, tpr, color='green',\n",
    "         label='ROC кривая случайного леса (area = %0.2f)' % roc_auc) # строим график\n",
    "\n",
    "\n",
    "\n",
    "plt.plot([0, 1], [0, 1], color='navy', linestyle='--')\n",
    "plt.xlim([0.0, 1.0])\n",
    "plt.ylim([0.0, 1.05])\n",
    "plt.xlabel('False Positive Rate')\n",
    "plt.ylabel('True Positive Rate')\n",
    "plt.title('ROC-кривые')\n",
    "plt.legend(loc=\"lower right\")\n",
    "plt.show()"
   ]
  },
  {
   "cell_type": "markdown",
   "metadata": {},
   "source": [
    "Рассмотрев полученные roc-кривые можно сказать, трудно определить превосходство модели случайного леса и модели логической регрессии, так как их показатели близки к одинаковым."
   ]
  },
  {
   "cell_type": "markdown",
   "metadata": {},
   "source": []
  },
  {
   "cell_type": "code",
   "execution_count": null,
   "metadata": {},
   "outputs": [],
   "source": []
  },
  {
   "cell_type": "markdown",
   "metadata": {},
   "source": [
    "## Выводы \n",
    "\n",
    "Подводя итоги, можно сказать, что с наибольшей точностью нам показывает результат модель случайного леса, по всем показателям она имеет наибольшие показатели, а обратив внимание на roc-кривую модель случайного леса видно превосходство над остальными. Однако и модель логической регрессии имеет высокие показатели точности, практически наравне с моделью случайного леса. Модель k-ближайших соседей как на полученных результатах, так и на roc-кривой показывает наименьшие показатели."
   ]
  },
  {
   "cell_type": "markdown",
   "metadata": {},
   "source": []
  }
 ],
 "metadata": {
  "kernelspec": {
   "display_name": "Python 3 (ipykernel)",
   "language": "python",
   "name": "python3"
  },
  "language_info": {
   "codemirror_mode": {
    "name": "ipython",
    "version": 3
   },
   "file_extension": ".py",
   "mimetype": "text/x-python",
   "name": "python",
   "nbconvert_exporter": "python",
   "pygments_lexer": "ipython3",
   "version": "3.10.4"
  },
  "vscode": {
   "interpreter": {
    "hash": "65bd05deffe5fb5646e31d5e231f9f3657548eb3d0a42f8e902a725dca4fce4c"
   }
  }
 },
 "nbformat": 4,
 "nbformat_minor": 4
}
